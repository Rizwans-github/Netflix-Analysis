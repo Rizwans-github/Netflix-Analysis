{
 "cells": [
  {
   "cell_type": "markdown",
   "id": "e245d8d0-79a5-4edc-9e5e-a69a055d6dab",
   "metadata": {},
   "source": [
    "# Netflix Analysis"
   ]
  },
  {
   "cell_type": "markdown",
   "id": "97cb78db-6666-4324-ba95-e25335d41807",
   "metadata": {},
   "source": [
    "#### By Mohd Rizwan"
   ]
  },
  {
   "cell_type": "markdown",
   "id": "1549d23d-ec19-4714-8b65-aede73ee25cf",
   "metadata": {},
   "source": [
    "### Here I am importing all the necessary python libraries"
   ]
  },
  {
   "cell_type": "code",
   "execution_count": 3,
   "id": "c0e3ad31-4b1e-4a83-9b6b-fd3101497a24",
   "metadata": {},
   "outputs": [],
   "source": [
    "import pandas as pd\n",
    "import seaborn as sns\n",
    "import matplotlib.pyplot as plt\n",
    "import numpy as np"
   ]
  },
  {
   "cell_type": "code",
   "execution_count": 4,
   "id": "1b44ddc5-a027-432a-9686-de307f3b1d7d",
   "metadata": {},
   "outputs": [],
   "source": [
    "df = pd.read_csv(\"netflix_titles.csv\")"
   ]
  },
  {
   "cell_type": "code",
   "execution_count": 5,
   "id": "fcc7d7fb-df9a-4997-a7b0-74b54363cfcc",
   "metadata": {},
   "outputs": [
    {
     "data": {
      "text/html": [
       "<div>\n",
       "<style scoped>\n",
       "    .dataframe tbody tr th:only-of-type {\n",
       "        vertical-align: middle;\n",
       "    }\n",
       "\n",
       "    .dataframe tbody tr th {\n",
       "        vertical-align: top;\n",
       "    }\n",
       "\n",
       "    .dataframe thead th {\n",
       "        text-align: right;\n",
       "    }\n",
       "</style>\n",
       "<table border=\"1\" class=\"dataframe\">\n",
       "  <thead>\n",
       "    <tr style=\"text-align: right;\">\n",
       "      <th></th>\n",
       "      <th>show_id</th>\n",
       "      <th>type</th>\n",
       "      <th>title</th>\n",
       "      <th>director</th>\n",
       "      <th>cast</th>\n",
       "      <th>country</th>\n",
       "      <th>date_added</th>\n",
       "      <th>release_year</th>\n",
       "      <th>rating</th>\n",
       "      <th>duration</th>\n",
       "      <th>listed_in</th>\n",
       "      <th>description</th>\n",
       "    </tr>\n",
       "  </thead>\n",
       "  <tbody>\n",
       "    <tr>\n",
       "      <th>0</th>\n",
       "      <td>s1</td>\n",
       "      <td>Movie</td>\n",
       "      <td>Dick Johnson Is Dead</td>\n",
       "      <td>Kirsten Johnson</td>\n",
       "      <td>NaN</td>\n",
       "      <td>United States</td>\n",
       "      <td>September 25, 2021</td>\n",
       "      <td>2020</td>\n",
       "      <td>PG-13</td>\n",
       "      <td>90 min</td>\n",
       "      <td>Documentaries</td>\n",
       "      <td>As her father nears the end of his life, filmm...</td>\n",
       "    </tr>\n",
       "    <tr>\n",
       "      <th>1</th>\n",
       "      <td>s2</td>\n",
       "      <td>TV Show</td>\n",
       "      <td>Blood &amp; Water</td>\n",
       "      <td>NaN</td>\n",
       "      <td>Ama Qamata, Khosi Ngema, Gail Mabalane, Thaban...</td>\n",
       "      <td>South Africa</td>\n",
       "      <td>September 24, 2021</td>\n",
       "      <td>2021</td>\n",
       "      <td>TV-MA</td>\n",
       "      <td>2 Seasons</td>\n",
       "      <td>International TV Shows, TV Dramas, TV Mysteries</td>\n",
       "      <td>After crossing paths at a party, a Cape Town t...</td>\n",
       "    </tr>\n",
       "  </tbody>\n",
       "</table>\n",
       "</div>"
      ],
      "text/plain": [
       "  show_id     type                 title         director  \\\n",
       "0      s1    Movie  Dick Johnson Is Dead  Kirsten Johnson   \n",
       "1      s2  TV Show         Blood & Water              NaN   \n",
       "\n",
       "                                                cast        country  \\\n",
       "0                                                NaN  United States   \n",
       "1  Ama Qamata, Khosi Ngema, Gail Mabalane, Thaban...   South Africa   \n",
       "\n",
       "           date_added  release_year rating   duration  \\\n",
       "0  September 25, 2021          2020  PG-13     90 min   \n",
       "1  September 24, 2021          2021  TV-MA  2 Seasons   \n",
       "\n",
       "                                         listed_in  \\\n",
       "0                                    Documentaries   \n",
       "1  International TV Shows, TV Dramas, TV Mysteries   \n",
       "\n",
       "                                         description  \n",
       "0  As her father nears the end of his life, filmm...  \n",
       "1  After crossing paths at a party, a Cape Town t...  "
      ]
     },
     "execution_count": 5,
     "metadata": {},
     "output_type": "execute_result"
    }
   ],
   "source": [
    "df.head(2)"
   ]
  },
  {
   "cell_type": "code",
   "execution_count": 6,
   "id": "cb55e6b2-192c-4bbc-950e-a08c64995e3a",
   "metadata": {},
   "outputs": [
    {
     "data": {
      "text/plain": [
       "(8807, 12)"
      ]
     },
     "execution_count": 6,
     "metadata": {},
     "output_type": "execute_result"
    }
   ],
   "source": [
    "df.shape"
   ]
  },
  {
   "cell_type": "code",
   "execution_count": 7,
   "id": "f2df0a9a-a093-4ef9-8a4e-f5128ce7707c",
   "metadata": {},
   "outputs": [
    {
     "data": {
      "text/html": [
       "<div>\n",
       "<style scoped>\n",
       "    .dataframe tbody tr th:only-of-type {\n",
       "        vertical-align: middle;\n",
       "    }\n",
       "\n",
       "    .dataframe tbody tr th {\n",
       "        vertical-align: top;\n",
       "    }\n",
       "\n",
       "    .dataframe thead th {\n",
       "        text-align: right;\n",
       "    }\n",
       "</style>\n",
       "<table border=\"1\" class=\"dataframe\">\n",
       "  <thead>\n",
       "    <tr style=\"text-align: right;\">\n",
       "      <th></th>\n",
       "      <th>show_id</th>\n",
       "      <th>type</th>\n",
       "      <th>title</th>\n",
       "      <th>director</th>\n",
       "      <th>cast</th>\n",
       "      <th>country</th>\n",
       "      <th>date_added</th>\n",
       "      <th>rating</th>\n",
       "      <th>duration</th>\n",
       "      <th>listed_in</th>\n",
       "      <th>description</th>\n",
       "    </tr>\n",
       "  </thead>\n",
       "  <tbody>\n",
       "    <tr>\n",
       "      <th>count</th>\n",
       "      <td>8807</td>\n",
       "      <td>8807</td>\n",
       "      <td>8807</td>\n",
       "      <td>6173</td>\n",
       "      <td>7982</td>\n",
       "      <td>7976</td>\n",
       "      <td>8797</td>\n",
       "      <td>8803</td>\n",
       "      <td>8804</td>\n",
       "      <td>8807</td>\n",
       "      <td>8807</td>\n",
       "    </tr>\n",
       "    <tr>\n",
       "      <th>unique</th>\n",
       "      <td>8807</td>\n",
       "      <td>2</td>\n",
       "      <td>8807</td>\n",
       "      <td>4528</td>\n",
       "      <td>7692</td>\n",
       "      <td>748</td>\n",
       "      <td>1767</td>\n",
       "      <td>17</td>\n",
       "      <td>220</td>\n",
       "      <td>514</td>\n",
       "      <td>8775</td>\n",
       "    </tr>\n",
       "    <tr>\n",
       "      <th>top</th>\n",
       "      <td>s1</td>\n",
       "      <td>Movie</td>\n",
       "      <td>Dick Johnson Is Dead</td>\n",
       "      <td>Rajiv Chilaka</td>\n",
       "      <td>David Attenborough</td>\n",
       "      <td>United States</td>\n",
       "      <td>January 1, 2020</td>\n",
       "      <td>TV-MA</td>\n",
       "      <td>1 Season</td>\n",
       "      <td>Dramas, International Movies</td>\n",
       "      <td>Paranormal activity at a lush, abandoned prope...</td>\n",
       "    </tr>\n",
       "    <tr>\n",
       "      <th>freq</th>\n",
       "      <td>1</td>\n",
       "      <td>6131</td>\n",
       "      <td>1</td>\n",
       "      <td>19</td>\n",
       "      <td>19</td>\n",
       "      <td>2818</td>\n",
       "      <td>109</td>\n",
       "      <td>3207</td>\n",
       "      <td>1793</td>\n",
       "      <td>362</td>\n",
       "      <td>4</td>\n",
       "    </tr>\n",
       "  </tbody>\n",
       "</table>\n",
       "</div>"
      ],
      "text/plain": [
       "       show_id   type                 title       director  \\\n",
       "count     8807   8807                  8807           6173   \n",
       "unique    8807      2                  8807           4528   \n",
       "top         s1  Movie  Dick Johnson Is Dead  Rajiv Chilaka   \n",
       "freq         1   6131                     1             19   \n",
       "\n",
       "                      cast        country       date_added rating  duration  \\\n",
       "count                 7982           7976             8797   8803      8804   \n",
       "unique                7692            748             1767     17       220   \n",
       "top     David Attenborough  United States  January 1, 2020  TV-MA  1 Season   \n",
       "freq                    19           2818              109   3207      1793   \n",
       "\n",
       "                           listed_in  \\\n",
       "count                           8807   \n",
       "unique                           514   \n",
       "top     Dramas, International Movies   \n",
       "freq                             362   \n",
       "\n",
       "                                              description  \n",
       "count                                                8807  \n",
       "unique                                               8775  \n",
       "top     Paranormal activity at a lush, abandoned prope...  \n",
       "freq                                                    4  "
      ]
     },
     "execution_count": 7,
     "metadata": {},
     "output_type": "execute_result"
    }
   ],
   "source": [
    "df.describe(include = 'object')"
   ]
  },
  {
   "cell_type": "code",
   "execution_count": 8,
   "id": "6ec9cc25-0483-4736-b5b0-057acc50b012",
   "metadata": {},
   "outputs": [
    {
     "name": "stdout",
     "output_type": "stream",
     "text": [
      "<class 'pandas.core.frame.DataFrame'>\n",
      "RangeIndex: 8807 entries, 0 to 8806\n",
      "Data columns (total 12 columns):\n",
      " #   Column        Non-Null Count  Dtype \n",
      "---  ------        --------------  ----- \n",
      " 0   show_id       8807 non-null   object\n",
      " 1   type          8807 non-null   object\n",
      " 2   title         8807 non-null   object\n",
      " 3   director      6173 non-null   object\n",
      " 4   cast          7982 non-null   object\n",
      " 5   country       7976 non-null   object\n",
      " 6   date_added    8797 non-null   object\n",
      " 7   release_year  8807 non-null   int64 \n",
      " 8   rating        8803 non-null   object\n",
      " 9   duration      8804 non-null   object\n",
      " 10  listed_in     8807 non-null   object\n",
      " 11  description   8807 non-null   object\n",
      "dtypes: int64(1), object(11)\n",
      "memory usage: 825.8+ KB\n"
     ]
    }
   ],
   "source": [
    "df.info()"
   ]
  },
  {
   "cell_type": "code",
   "execution_count": 9,
   "id": "dfb92947-0e61-435e-a959-eef934fbb0ca",
   "metadata": {},
   "outputs": [
    {
     "data": {
      "text/plain": [
       "show_id            0\n",
       "type               0\n",
       "title              0\n",
       "director        2634\n",
       "cast             825\n",
       "country          831\n",
       "date_added        10\n",
       "release_year       0\n",
       "rating             4\n",
       "duration           3\n",
       "listed_in          0\n",
       "description        0\n",
       "dtype: int64"
      ]
     },
     "execution_count": 9,
     "metadata": {},
     "output_type": "execute_result"
    }
   ],
   "source": [
    "df.isnull().sum()"
   ]
  },
  {
   "cell_type": "code",
   "execution_count": 10,
   "id": "0ade147b-33fe-46f1-94ba-7099d2ddea04",
   "metadata": {},
   "outputs": [
    {
     "data": {
      "text/html": [
       "<div>\n",
       "<style scoped>\n",
       "    .dataframe tbody tr th:only-of-type {\n",
       "        vertical-align: middle;\n",
       "    }\n",
       "\n",
       "    .dataframe tbody tr th {\n",
       "        vertical-align: top;\n",
       "    }\n",
       "\n",
       "    .dataframe thead th {\n",
       "        text-align: right;\n",
       "    }\n",
       "</style>\n",
       "<table border=\"1\" class=\"dataframe\">\n",
       "  <thead>\n",
       "    <tr style=\"text-align: right;\">\n",
       "      <th></th>\n",
       "      <th>show_id</th>\n",
       "      <th>type</th>\n",
       "      <th>title</th>\n",
       "      <th>director</th>\n",
       "      <th>cast</th>\n",
       "      <th>country</th>\n",
       "      <th>date_added</th>\n",
       "      <th>release_year</th>\n",
       "      <th>rating</th>\n",
       "      <th>duration</th>\n",
       "      <th>listed_in</th>\n",
       "      <th>description</th>\n",
       "    </tr>\n",
       "  </thead>\n",
       "  <tbody>\n",
       "    <tr>\n",
       "      <th>5541</th>\n",
       "      <td>s5542</td>\n",
       "      <td>Movie</td>\n",
       "      <td>Louis C.K. 2017</td>\n",
       "      <td>Louis C.K.</td>\n",
       "      <td>Louis C.K.</td>\n",
       "      <td>United States</td>\n",
       "      <td>April 4, 2017</td>\n",
       "      <td>2017</td>\n",
       "      <td>74 min</td>\n",
       "      <td>NaN</td>\n",
       "      <td>Movies</td>\n",
       "      <td>Louis C.K. muses on religion, eternal love, gi...</td>\n",
       "    </tr>\n",
       "    <tr>\n",
       "      <th>5794</th>\n",
       "      <td>s5795</td>\n",
       "      <td>Movie</td>\n",
       "      <td>Louis C.K.: Hilarious</td>\n",
       "      <td>Louis C.K.</td>\n",
       "      <td>Louis C.K.</td>\n",
       "      <td>United States</td>\n",
       "      <td>September 16, 2016</td>\n",
       "      <td>2010</td>\n",
       "      <td>84 min</td>\n",
       "      <td>NaN</td>\n",
       "      <td>Movies</td>\n",
       "      <td>Emmy-winning comedy writer Louis C.K. brings h...</td>\n",
       "    </tr>\n",
       "    <tr>\n",
       "      <th>5813</th>\n",
       "      <td>s5814</td>\n",
       "      <td>Movie</td>\n",
       "      <td>Louis C.K.: Live at the Comedy Store</td>\n",
       "      <td>Louis C.K.</td>\n",
       "      <td>Louis C.K.</td>\n",
       "      <td>United States</td>\n",
       "      <td>August 15, 2016</td>\n",
       "      <td>2015</td>\n",
       "      <td>66 min</td>\n",
       "      <td>NaN</td>\n",
       "      <td>Movies</td>\n",
       "      <td>The comic puts his trademark hilarious/thought...</td>\n",
       "    </tr>\n",
       "  </tbody>\n",
       "</table>\n",
       "</div>"
      ],
      "text/plain": [
       "     show_id   type                                 title    director  \\\n",
       "5541   s5542  Movie                       Louis C.K. 2017  Louis C.K.   \n",
       "5794   s5795  Movie                 Louis C.K.: Hilarious  Louis C.K.   \n",
       "5813   s5814  Movie  Louis C.K.: Live at the Comedy Store  Louis C.K.   \n",
       "\n",
       "            cast        country          date_added  release_year  rating  \\\n",
       "5541  Louis C.K.  United States       April 4, 2017          2017  74 min   \n",
       "5794  Louis C.K.  United States  September 16, 2016          2010  84 min   \n",
       "5813  Louis C.K.  United States     August 15, 2016          2015  66 min   \n",
       "\n",
       "     duration listed_in                                        description  \n",
       "5541      NaN    Movies  Louis C.K. muses on religion, eternal love, gi...  \n",
       "5794      NaN    Movies  Emmy-winning comedy writer Louis C.K. brings h...  \n",
       "5813      NaN    Movies  The comic puts his trademark hilarious/thought...  "
      ]
     },
     "execution_count": 10,
     "metadata": {},
     "output_type": "execute_result"
    }
   ],
   "source": [
    "df[df['duration'].isnull()]"
   ]
  },
  {
   "cell_type": "code",
   "execution_count": 11,
   "id": "ec22ace2-c989-4b78-947d-c64b62af700a",
   "metadata": {},
   "outputs": [],
   "source": [
    "df.loc[df['duration'].isnull(), 'duration'] = df.loc[df['duration'].isnull(), 'rating']"
   ]
  },
  {
   "cell_type": "code",
   "execution_count": 12,
   "id": "002f4191-0709-4d18-9949-d551bca968d2",
   "metadata": {},
   "outputs": [
    {
     "data": {
      "text/plain": [
       "array(['PG-13', 'TV-MA', 'PG', 'TV-14', 'TV-PG', 'TV-Y', 'TV-Y7', 'R',\n",
       "       'TV-G', 'G', 'NC-17', '74 min', '84 min', '66 min', 'NR', nan,\n",
       "       'TV-Y7-FV', 'UR'], dtype=object)"
      ]
     },
     "execution_count": 12,
     "metadata": {},
     "output_type": "execute_result"
    }
   ],
   "source": [
    "df['rating'].unique()"
   ]
  },
  {
   "cell_type": "code",
   "execution_count": 13,
   "id": "208baf7c-5302-4aac-ae4c-5b1e76bffd1a",
   "metadata": {},
   "outputs": [
    {
     "data": {
      "text/plain": [
       "0       PG-13\n",
       "1       TV-MA\n",
       "2       TV-MA\n",
       "3       TV-MA\n",
       "4       TV-MA\n",
       "        ...  \n",
       "8802        R\n",
       "8803    TV-Y7\n",
       "8804        R\n",
       "8805       PG\n",
       "8806    TV-14\n",
       "Name: rating, Length: 8807, dtype: object"
      ]
     },
     "execution_count": 13,
     "metadata": {},
     "output_type": "execute_result"
    }
   ],
   "source": [
    "df['rating']"
   ]
  },
  {
   "cell_type": "code",
   "execution_count": 14,
   "id": "14890870-c9ad-40a1-9b51-91f062fea67a",
   "metadata": {},
   "outputs": [
    {
     "data": {
      "text/plain": [
       "(8807,)"
      ]
     },
     "execution_count": 14,
     "metadata": {},
     "output_type": "execute_result"
    }
   ],
   "source": [
    "df['rating'].shape"
   ]
  },
  {
   "cell_type": "code",
   "execution_count": 15,
   "id": "556f3253-72e5-43da-86dd-ca3051048762",
   "metadata": {},
   "outputs": [
    {
     "data": {
      "text/plain": [
       "(8807, 12)"
      ]
     },
     "execution_count": 15,
     "metadata": {},
     "output_type": "execute_result"
    }
   ],
   "source": [
    "df.shape"
   ]
  },
  {
   "cell_type": "code",
   "execution_count": 16,
   "id": "1002ade5-fa3f-4a3f-b161-756250f56a9d",
   "metadata": {},
   "outputs": [
    {
     "data": {
      "text/plain": [
       "array(['PG-13', 'TV-MA', 'PG', 'TV-14', 'TV-PG', 'TV-Y', 'TV-Y7', 'R',\n",
       "       'TV-G', 'G', 'NC-17', '74 min', '84 min', '66 min', 'NR', nan,\n",
       "       'TV-Y7-FV', 'UR'], dtype=object)"
      ]
     },
     "execution_count": 16,
     "metadata": {},
     "output_type": "execute_result"
    }
   ],
   "source": [
    "df['rating'].unique()"
   ]
  },
  {
   "cell_type": "code",
   "execution_count": 17,
   "id": "3d41b283-c9d0-4aa6-b16b-4f7fa335c4ce",
   "metadata": {},
   "outputs": [],
   "source": [
    "df.loc[(df['rating'] == '74 min') | (df['rating'] == '66 min') | (df['rating'] == '84 min'), 'rating'] = np.nan"
   ]
  },
  {
   "cell_type": "code",
   "execution_count": 18,
   "id": "a031b4a4-42d4-4a2d-a0f1-d66f7ab74b0f",
   "metadata": {},
   "outputs": [
    {
     "data": {
      "text/plain": [
       "(8807, 12)"
      ]
     },
     "execution_count": 18,
     "metadata": {},
     "output_type": "execute_result"
    }
   ],
   "source": [
    "df.shape"
   ]
  },
  {
   "cell_type": "code",
   "execution_count": 19,
   "id": "58547280-e952-4060-adeb-9016f41ac511",
   "metadata": {},
   "outputs": [
    {
     "data": {
      "text/plain": [
       "array(['PG-13', 'TV-MA', 'PG', 'TV-14', 'TV-PG', 'TV-Y', 'TV-Y7', 'R',\n",
       "       'TV-G', 'G', 'NC-17', nan, 'NR', 'TV-Y7-FV', 'UR'], dtype=object)"
      ]
     },
     "execution_count": 19,
     "metadata": {},
     "output_type": "execute_result"
    }
   ],
   "source": [
    "df['rating'].unique()"
   ]
  },
  {
   "cell_type": "code",
   "execution_count": 20,
   "id": "589be486-9bff-4408-bb14-b63d591c8f0a",
   "metadata": {},
   "outputs": [
    {
     "data": {
      "text/plain": [
       "show_id         object\n",
       "type            object\n",
       "title           object\n",
       "director        object\n",
       "cast            object\n",
       "country         object\n",
       "date_added      object\n",
       "release_year     int64\n",
       "rating          object\n",
       "duration        object\n",
       "listed_in       object\n",
       "description     object\n",
       "dtype: object"
      ]
     },
     "execution_count": 20,
     "metadata": {},
     "output_type": "execute_result"
    }
   ],
   "source": [
    "df.dtypes"
   ]
  },
  {
   "cell_type": "code",
   "execution_count": 21,
   "id": "fd118076-54f4-4d19-8103-fe6e86ba4025",
   "metadata": {},
   "outputs": [
    {
     "data": {
      "text/plain": [
       "array([2020, 2021, 1993, 2018, 1996, 1998, 1997, 2010, 2013, 2017, 1975,\n",
       "       1978, 1983, 1987, 2012, 2001, 2014, 2002, 2003, 2004, 2011, 2008,\n",
       "       2009, 2007, 2005, 2006, 1994, 2015, 2019, 2016, 1982, 1989, 1990,\n",
       "       1991, 1999, 1986, 1992, 1984, 1980, 1961, 2000, 1995, 1985, 1976,\n",
       "       1959, 1988, 1981, 1972, 1964, 1945, 1954, 1979, 1958, 1956, 1963,\n",
       "       1970, 1973, 1925, 1974, 1960, 1966, 1971, 1962, 1969, 1977, 1967,\n",
       "       1968, 1965, 1946, 1942, 1955, 1944, 1947, 1943], dtype=int64)"
      ]
     },
     "execution_count": 21,
     "metadata": {},
     "output_type": "execute_result"
    }
   ],
   "source": [
    "df['release_year'].unique()"
   ]
  },
  {
   "cell_type": "code",
   "execution_count": 22,
   "id": "be9a4a70-8f75-41b8-aaff-38e09a817c00",
   "metadata": {},
   "outputs": [],
   "source": [
    "df['Date_N'] = pd.to_datetime(df['release_year'], format = '%Y')"
   ]
  },
  {
   "cell_type": "code",
   "execution_count": 23,
   "id": "58d3c38f-409d-4dfa-957a-699513480192",
   "metadata": {},
   "outputs": [
    {
     "data": {
      "text/plain": [
       "Date_N\n",
       "2018    1147\n",
       "2017    1032\n",
       "2019    1030\n",
       "2020     953\n",
       "2016     902\n",
       "        ... \n",
       "1959       1\n",
       "1925       1\n",
       "1961       1\n",
       "1947       1\n",
       "1966       1\n",
       "Name: count, Length: 74, dtype: int64"
      ]
     },
     "execution_count": 23,
     "metadata": {},
     "output_type": "execute_result"
    }
   ],
   "source": [
    "df['Date_N'].dt.year.value_counts()"
   ]
  },
  {
   "cell_type": "code",
   "execution_count": 24,
   "id": "dc7c8c3a-5977-446a-b862-7356a4102f8b",
   "metadata": {},
   "outputs": [
    {
     "data": {
      "text/plain": [
       "<DatetimeArray>\n",
       "['2020-01-01 00:00:00', '2021-01-01 00:00:00', '1993-01-01 00:00:00',\n",
       " '2018-01-01 00:00:00', '1996-01-01 00:00:00', '1998-01-01 00:00:00',\n",
       " '1997-01-01 00:00:00', '2010-01-01 00:00:00', '2013-01-01 00:00:00',\n",
       " '2017-01-01 00:00:00', '1975-01-01 00:00:00', '1978-01-01 00:00:00',\n",
       " '1983-01-01 00:00:00', '1987-01-01 00:00:00', '2012-01-01 00:00:00',\n",
       " '2001-01-01 00:00:00', '2014-01-01 00:00:00', '2002-01-01 00:00:00',\n",
       " '2003-01-01 00:00:00', '2004-01-01 00:00:00', '2011-01-01 00:00:00',\n",
       " '2008-01-01 00:00:00', '2009-01-01 00:00:00', '2007-01-01 00:00:00',\n",
       " '2005-01-01 00:00:00', '2006-01-01 00:00:00', '1994-01-01 00:00:00',\n",
       " '2015-01-01 00:00:00', '2019-01-01 00:00:00', '2016-01-01 00:00:00',\n",
       " '1982-01-01 00:00:00', '1989-01-01 00:00:00', '1990-01-01 00:00:00',\n",
       " '1991-01-01 00:00:00', '1999-01-01 00:00:00', '1986-01-01 00:00:00',\n",
       " '1992-01-01 00:00:00', '1984-01-01 00:00:00', '1980-01-01 00:00:00',\n",
       " '1961-01-01 00:00:00', '2000-01-01 00:00:00', '1995-01-01 00:00:00',\n",
       " '1985-01-01 00:00:00', '1976-01-01 00:00:00', '1959-01-01 00:00:00',\n",
       " '1988-01-01 00:00:00', '1981-01-01 00:00:00', '1972-01-01 00:00:00',\n",
       " '1964-01-01 00:00:00', '1945-01-01 00:00:00', '1954-01-01 00:00:00',\n",
       " '1979-01-01 00:00:00', '1958-01-01 00:00:00', '1956-01-01 00:00:00',\n",
       " '1963-01-01 00:00:00', '1970-01-01 00:00:00', '1973-01-01 00:00:00',\n",
       " '1925-01-01 00:00:00', '1974-01-01 00:00:00', '1960-01-01 00:00:00',\n",
       " '1966-01-01 00:00:00', '1971-01-01 00:00:00', '1962-01-01 00:00:00',\n",
       " '1969-01-01 00:00:00', '1977-01-01 00:00:00', '1967-01-01 00:00:00',\n",
       " '1968-01-01 00:00:00', '1965-01-01 00:00:00', '1946-01-01 00:00:00',\n",
       " '1942-01-01 00:00:00', '1955-01-01 00:00:00', '1944-01-01 00:00:00',\n",
       " '1947-01-01 00:00:00', '1943-01-01 00:00:00']\n",
       "Length: 74, dtype: datetime64[ns]"
      ]
     },
     "execution_count": 24,
     "metadata": {},
     "output_type": "execute_result"
    }
   ],
   "source": [
    "df['Date_N'].unique()"
   ]
  },
  {
   "cell_type": "code",
   "execution_count": 25,
   "id": "8eb5c8c9-b045-40d3-8e2d-f75c7a0c217d",
   "metadata": {},
   "outputs": [],
   "source": [
    "df['date_added'] = df['date_added'].str.strip() "
   ]
  },
  {
   "cell_type": "code",
   "execution_count": 26,
   "id": "2a38197e-8d26-4c7a-8523-1078e82358d0",
   "metadata": {},
   "outputs": [],
   "source": [
    "df['Date_Added'] = pd.to_datetime(df['date_added'], format = '%B %d, %Y')"
   ]
  },
  {
   "cell_type": "code",
   "execution_count": 27,
   "id": "8a955dab-a1f9-474c-90ec-dd9c9e960724",
   "metadata": {},
   "outputs": [
    {
     "data": {
      "text/plain": [
       "<DatetimeArray>\n",
       "['2021-09-25 00:00:00', '2021-09-24 00:00:00', '2021-09-23 00:00:00',\n",
       " '2021-09-22 00:00:00', '2021-09-21 00:00:00', '2021-09-20 00:00:00',\n",
       " '2021-09-19 00:00:00', '2021-09-17 00:00:00', '2021-09-16 00:00:00',\n",
       " '2021-09-15 00:00:00',\n",
       " ...\n",
       " '2018-09-27 00:00:00', '2017-03-23 00:00:00', '2016-12-25 00:00:00',\n",
       " '2016-11-30 00:00:00', '2017-10-23 00:00:00', '2017-11-04 00:00:00',\n",
       " '2015-08-05 00:00:00', '2018-12-06 00:00:00', '2016-03-09 00:00:00',\n",
       " '2020-01-11 00:00:00']\n",
       "Length: 1715, dtype: datetime64[ns]"
      ]
     },
     "execution_count": 27,
     "metadata": {},
     "output_type": "execute_result"
    }
   ],
   "source": [
    "df['Date_Added'].unique()"
   ]
  },
  {
   "cell_type": "code",
   "execution_count": 28,
   "id": "cfee85ac-8e6b-437f-94ba-8616a410175d",
   "metadata": {},
   "outputs": [
    {
     "data": {
      "text/plain": [
       "8807"
      ]
     },
     "execution_count": 28,
     "metadata": {},
     "output_type": "execute_result"
    }
   ],
   "source": [
    "df['type'].count()"
   ]
  },
  {
   "cell_type": "code",
   "execution_count": 29,
   "id": "a7d9eab6-645b-4ffa-87be-246d5332e43e",
   "metadata": {},
   "outputs": [
    {
     "name": "stdout",
     "output_type": "stream",
     "text": [
      "     Date_Added     type  count\n",
      "0    2008-01-01    Movie      1\n",
      "1    2008-02-04  TV Show      1\n",
      "2    2009-05-05    Movie      1\n",
      "3    2009-11-18    Movie      1\n",
      "4    2010-11-01    Movie      1\n",
      "...         ...      ...    ...\n",
      "2540 2021-09-23    Movie      1\n",
      "2541 2021-09-23  TV Show      1\n",
      "2542 2021-09-24  TV Show      7\n",
      "2543 2021-09-24    Movie      3\n",
      "2544 2021-09-25    Movie      1\n",
      "\n",
      "[2545 rows x 3 columns]\n"
     ]
    }
   ],
   "source": [
    "MovShows = df.groupby('Date_Added')['type'].value_counts().reset_index()\n",
    "print(MovShows)"
   ]
  },
  {
   "cell_type": "code",
   "execution_count": 30,
   "id": "067e5cad-b587-4852-835c-b7633d0b6b8d",
   "metadata": {},
   "outputs": [
    {
     "data": {
      "image/png": "[encoded data removed]",
      "text/plain": [
       "<Figure size 800x500 with 1 Axes>"
      ]
     },
     "metadata": {},
     "output_type": "display_data"
    }
   ],
   "source": [
    "plt.figure(figsize = (8,5))\n",
    "yr_added = df['Date_Added'].dt.year.value_counts()\n",
    "ax = sns.barplot( x = yr_added.index, y = yr_added.values, hue = yr_added.values, legend = False)\n",
    "for container in ax.containers:\n",
    "    ax.bar_label(container, color = '#8f6083')\n",
    "plt.xlabel('Year Added', color = '#8f6083', weight = 'bold', fontsize = 12)\n",
    "plt.ylabel('Shows & Movies', color = '#8f6083', weight = 'bold', fontsize = 12)\n",
    "plt.title('Number Of Titles Added Per Year', color = '#8f6083', weight = 'bold', fontsize = 15)\n",
    "plt.xticks( ticks = range(14), labels = np.sort(np.array(yr_added.index, dtype = int)))\n",
    "plt.grid(True, color = '#573c5f', alpha = 0.1)\n",
    "plt.show()"
   ]
  },
  {
   "cell_type": "code",
   "execution_count": 31,
   "id": "cedede5f-6eb4-4f75-a02f-5145d37299ad",
   "metadata": {},
   "outputs": [
    {
     "data": {
      "image/png": "[encoded data removed]",
      "text/plain": [
       "<Figure size 1000x500 with 1 Axes>"
      ]
     },
     "metadata": {},
     "output_type": "display_data"
    }
   ],
   "source": [
    "plt.figure(figsize =(10,5))\n",
    "yr = df['Date_Added'].dt.year.value_counts().reset_index()\n",
    "ad = sns.barplot(x = yr['Date_Added'] , y = yr['count'], hue = yr['count'])\n",
    "for container in ad.containers:\n",
    "    ad.bar_label(container, color = '#8f6083')\n",
    "\n",
    "plt.show()"
   ]
  },
  {
   "cell_type": "code",
   "execution_count": 32,
   "id": "f35293aa-eddd-4bfb-a135-111425a39014",
   "metadata": {},
   "outputs": [
    {
     "data": {
      "image/png": "[encoded data removed]",
      "text/plain": [
       "<Figure size 640x480 with 1 Axes>"
      ]
     },
     "metadata": {},
     "output_type": "display_data"
    }
   ],
   "source": [
    "ax = sns.countplot(x = df['type'], hue =  df['type'])\n",
    "for container in ax.containers:\n",
    "    ax.bar_label(container, label_type = 'center', color = 'white' , size = 14, weight = 'bold')\n",
    "plt.ylabel('No. of Titles',color = '#3274a1', weight = 'bold', fontsize = 12 )\n",
    "plt.xlabel('Type', color = '#3274a1', weight = 'bold', fontsize = 12)\n",
    "plt.xticks(color = '#3274a1', weight = 'bold', fontsize = 10)\n",
    "\n",
    "plt.show()"
   ]
  },
  {
   "cell_type": "code",
   "execution_count": 33,
   "id": "89003f1e-1f5f-43ea-b6b8-0a549fc728b0",
   "metadata": {},
   "outputs": [
    {
     "data": {
      "image/png": "[encoded data removed]",
      "text/plain": [
       "<Figure size 640x480 with 1 Axes>"
      ]
     },
     "metadata": {},
     "output_type": "display_data"
    }
   ],
   "source": [
    "ax = sns.countplot(x = df['type'], hue = df['type'])\n",
    "for container in ax.containers:\n",
    "    ax.bar_label(container, label_type = 'center', color = 'white' , size = 14, weight = 'bold')"
   ]
  },
  {
   "cell_type": "code",
   "execution_count": 34,
   "id": "b64ef0fd-e31e-444d-905e-c29357bfa8fb",
   "metadata": {},
   "outputs": [
    {
     "data": {
      "image/png": "[encoded data removed]",
      "text/plain": [
       "<Figure size 1200x400 with 1 Axes>"
      ]
     },
     "metadata": {},
     "output_type": "display_data"
    }
   ],
   "source": [
    "plt.figure(figsize= (12,4))\n",
    "ay = sns.countplot(x = df['Date_Added'].dt.year, hue = df['type'], width = 0.9)\n",
    "for container in ay.containers:\n",
    "    ay.bar_label(container)\n",
    "plt.xticks(ticks = range(14), labels = np.sort(np.array(yr_added.index, dtype = int)))\n",
    "\n",
    "plt.show()"
   ]
  },
  {
   "cell_type": "code",
   "execution_count": 35,
   "id": "1c5d367b-9a25-49bd-914b-50f5f8356d35",
   "metadata": {},
   "outputs": [
    {
     "data": {
      "image/png": "[encoded data removed]",
      "text/plain": [
       "<Figure size 1500x500 with 1 Axes>"
      ]
     },
     "metadata": {},
     "output_type": "display_data"
    }
   ],
   "source": [
    "df['Date_Added'] = pd.to_datetime(df['Date_Added'])\n",
    "df['Year'] = df['Date_Added'].dt.year\n",
    "\n",
    "MovShows = df.groupby('Year')['type'].value_counts().reset_index(name='count')\n",
    "MovShows.columns = ['Year','Type', 'Count']\n",
    "\n",
    "    \n",
    "plt.figure(figsize=(15,5))\n",
    "ay = sns.barplot(x='Year', y='Count', hue='Type', data=MovShows)\n",
    "\n",
    "\n",
    "# Design elements:\n",
    "for container in ay.containers:\n",
    "    ay.bar_label(container)\n",
    "plt.xlabel('Year Added', color = '#3274a1', weight = 'bold', fontsize = 12)\n",
    "plt.ylabel('Shows & Movies', color = '#3274a1', weight = 'bold', fontsize = 12)\n",
    "plt.title('Number Of Titles Added Per Year', color = '#3274a1', weight = 'bold', fontsize = 15)\n",
    "plt.xticks( ticks = range(14), labels = np.sort(np.array(MovShows['Year'].unique(), dtype = int)))\n",
    "plt.grid(True, color='#3274a1', alpha = 0.1)\n",
    "\n",
    "\n",
    "plt.show()\n"
   ]
  },
  {
   "cell_type": "markdown",
   "id": "924a2816-eab6-4e9d-8227-298e8556f70a",
   "metadata": {},
   "source": [
    "### Movies released in 2020"
   ]
  },
  {
   "cell_type": "code",
   "execution_count": 36,
   "id": "052e2d65-5164-49b3-9e1b-df62ac5957ba",
   "metadata": {},
   "outputs": [],
   "source": [
    "df['type'] = df['type'].str.lower()"
   ]
  },
  {
   "cell_type": "code",
   "execution_count": 37,
   "id": "7b4eaef3-52c9-452c-9cf4-7d1e78ffd8c2",
   "metadata": {},
   "outputs": [
    {
     "name": "stdin",
     "output_type": "stream",
     "text": [
      "Enter the year that you want to see:  2018\n",
      "Enter the type in lower case:  tv show\n"
     ]
    },
    {
     "data": {
      "text/html": [
       "<div>\n",
       "<style scoped>\n",
       "    .dataframe tbody tr th:only-of-type {\n",
       "        vertical-align: middle;\n",
       "    }\n",
       "\n",
       "    .dataframe tbody tr th {\n",
       "        vertical-align: top;\n",
       "    }\n",
       "\n",
       "    .dataframe thead th {\n",
       "        text-align: right;\n",
       "    }\n",
       "</style>\n",
       "<table border=\"1\" class=\"dataframe\">\n",
       "  <thead>\n",
       "    <tr style=\"text-align: right;\">\n",
       "      <th></th>\n",
       "      <th>show_id</th>\n",
       "      <th>type</th>\n",
       "      <th>title</th>\n",
       "      <th>director</th>\n",
       "      <th>cast</th>\n",
       "      <th>country</th>\n",
       "      <th>date_added</th>\n",
       "      <th>release_year</th>\n",
       "      <th>rating</th>\n",
       "      <th>duration</th>\n",
       "      <th>listed_in</th>\n",
       "      <th>description</th>\n",
       "      <th>Date_N</th>\n",
       "      <th>Date_Added</th>\n",
       "      <th>Year</th>\n",
       "    </tr>\n",
       "  </thead>\n",
       "  <tbody>\n",
       "    <tr>\n",
       "      <th>21</th>\n",
       "      <td>s22</td>\n",
       "      <td>tv show</td>\n",
       "      <td>Resurrection: Ertugrul</td>\n",
       "      <td>NaN</td>\n",
       "      <td>Engin Altan Düzyatan, Serdar Gökhan, Hülya Dar...</td>\n",
       "      <td>Turkey</td>\n",
       "      <td>September 22, 2021</td>\n",
       "      <td>2018</td>\n",
       "      <td>TV-14</td>\n",
       "      <td>5 Seasons</td>\n",
       "      <td>International TV Shows, TV Action &amp; Adventure,...</td>\n",
       "      <td>When a good deed unwittingly endangers his cla...</td>\n",
       "      <td>2018-01-01</td>\n",
       "      <td>2021-09-22</td>\n",
       "      <td>2021.0</td>\n",
       "    </tr>\n",
       "    <tr>\n",
       "      <th>37</th>\n",
       "      <td>s38</td>\n",
       "      <td>tv show</td>\n",
       "      <td>Angry Birds</td>\n",
       "      <td>NaN</td>\n",
       "      <td>Antti Pääkkönen, Heljä Heikkinen, Lynne Guagli...</td>\n",
       "      <td>Finland</td>\n",
       "      <td>September 16, 2021</td>\n",
       "      <td>2018</td>\n",
       "      <td>TV-Y7</td>\n",
       "      <td>1 Season</td>\n",
       "      <td>Kids' TV, TV Comedies</td>\n",
       "      <td>Birds Red, Chuck and their feathered friends h...</td>\n",
       "      <td>2018-01-01</td>\n",
       "      <td>2021-09-16</td>\n",
       "      <td>2021.0</td>\n",
       "    </tr>\n",
       "    <tr>\n",
       "      <th>265</th>\n",
       "      <td>s266</td>\n",
       "      <td>tv show</td>\n",
       "      <td>Rascal Does Not Dream of Bunny Girl Senpai</td>\n",
       "      <td>NaN</td>\n",
       "      <td>Kaito Ishikawa, Asami Seto, Nao Toyama, Atsumi...</td>\n",
       "      <td>Japan</td>\n",
       "      <td>August 15, 2021</td>\n",
       "      <td>2018</td>\n",
       "      <td>TV-14</td>\n",
       "      <td>1 Season</td>\n",
       "      <td>Anime Series, International TV Shows, Romantic...</td>\n",
       "      <td>After experiencing \"puberty syndrome\" himself,...</td>\n",
       "      <td>2018-01-01</td>\n",
       "      <td>2021-08-15</td>\n",
       "      <td>2021.0</td>\n",
       "    </tr>\n",
       "    <tr>\n",
       "      <th>288</th>\n",
       "      <td>s289</td>\n",
       "      <td>tv show</td>\n",
       "      <td>Las muñecas de la mafia</td>\n",
       "      <td>NaN</td>\n",
       "      <td>Amparo Grisales, Fernando Solórzano, Angelica ...</td>\n",
       "      <td>Colombia</td>\n",
       "      <td>August 10, 2021</td>\n",
       "      <td>2018</td>\n",
       "      <td>TV-MA</td>\n",
       "      <td>1 Season</td>\n",
       "      <td>Crime TV Shows, International TV Shows, Spanis...</td>\n",
       "      <td>Based on the book \"Las Fantásticas,\" this exci...</td>\n",
       "      <td>2018-01-01</td>\n",
       "      <td>2021-08-10</td>\n",
       "      <td>2021.0</td>\n",
       "    </tr>\n",
       "    <tr>\n",
       "      <th>513</th>\n",
       "      <td>s514</td>\n",
       "      <td>tv show</td>\n",
       "      <td>Colony</td>\n",
       "      <td>NaN</td>\n",
       "      <td>Josh Holloway, Sarah Wayne Callies, Peter Jaco...</td>\n",
       "      <td>United States</td>\n",
       "      <td>July 6, 2021</td>\n",
       "      <td>2018</td>\n",
       "      <td>TV-14</td>\n",
       "      <td>3 Seasons</td>\n",
       "      <td>TV Action &amp; Adventure, TV Dramas, TV Sci-Fi &amp; ...</td>\n",
       "      <td>When LA is invaded by outside forces and becom...</td>\n",
       "      <td>2018-01-01</td>\n",
       "      <td>2021-07-06</td>\n",
       "      <td>2021.0</td>\n",
       "    </tr>\n",
       "  </tbody>\n",
       "</table>\n",
       "</div>"
      ],
      "text/plain": [
       "    show_id     type                                       title director  \\\n",
       "21      s22  tv show                      Resurrection: Ertugrul      NaN   \n",
       "37      s38  tv show                                 Angry Birds      NaN   \n",
       "265    s266  tv show  Rascal Does Not Dream of Bunny Girl Senpai      NaN   \n",
       "288    s289  tv show                     Las muñecas de la mafia      NaN   \n",
       "513    s514  tv show                                      Colony      NaN   \n",
       "\n",
       "                                                  cast        country  \\\n",
       "21   Engin Altan Düzyatan, Serdar Gökhan, Hülya Dar...         Turkey   \n",
       "37   Antti Pääkkönen, Heljä Heikkinen, Lynne Guagli...        Finland   \n",
       "265  Kaito Ishikawa, Asami Seto, Nao Toyama, Atsumi...          Japan   \n",
       "288  Amparo Grisales, Fernando Solórzano, Angelica ...       Colombia   \n",
       "513  Josh Holloway, Sarah Wayne Callies, Peter Jaco...  United States   \n",
       "\n",
       "             date_added  release_year rating   duration  \\\n",
       "21   September 22, 2021          2018  TV-14  5 Seasons   \n",
       "37   September 16, 2021          2018  TV-Y7   1 Season   \n",
       "265     August 15, 2021          2018  TV-14   1 Season   \n",
       "288     August 10, 2021          2018  TV-MA   1 Season   \n",
       "513        July 6, 2021          2018  TV-14  3 Seasons   \n",
       "\n",
       "                                             listed_in  \\\n",
       "21   International TV Shows, TV Action & Adventure,...   \n",
       "37                               Kids' TV, TV Comedies   \n",
       "265  Anime Series, International TV Shows, Romantic...   \n",
       "288  Crime TV Shows, International TV Shows, Spanis...   \n",
       "513  TV Action & Adventure, TV Dramas, TV Sci-Fi & ...   \n",
       "\n",
       "                                           description     Date_N Date_Added  \\\n",
       "21   When a good deed unwittingly endangers his cla... 2018-01-01 2021-09-22   \n",
       "37   Birds Red, Chuck and their feathered friends h... 2018-01-01 2021-09-16   \n",
       "265  After experiencing \"puberty syndrome\" himself,... 2018-01-01 2021-08-15   \n",
       "288  Based on the book \"Las Fantásticas,\" this exci... 2018-01-01 2021-08-10   \n",
       "513  When LA is invaded by outside forces and becom... 2018-01-01 2021-07-06   \n",
       "\n",
       "       Year  \n",
       "21   2021.0  \n",
       "37   2021.0  \n",
       "265  2021.0  \n",
       "288  2021.0  \n",
       "513  2021.0  "
      ]
     },
     "execution_count": 37,
     "metadata": {},
     "output_type": "execute_result"
    }
   ],
   "source": [
    "Select = int(input('Enter the year that you want to see: '))\n",
    "Type = input('Enter the type in lower case: ')\n",
    "data = df[(df['release_year'] == Select) & (df['type'] == Type)]\n",
    "data.head()"
   ]
  },
  {
   "cell_type": "code",
   "execution_count": 38,
   "id": "e08a11d3-3810-4961-83d3-de1f82a00367",
   "metadata": {},
   "outputs": [
    {
     "name": "stdout",
     "output_type": "stream",
     "text": [
      "                Directors  Titles\n",
      "0           Rajiv Chilaka      19\n",
      "1  Raúl Campos, Jan Suter      18\n",
      "2            Marcus Raboy      16\n",
      "3             Suhas Kadav      16\n",
      "4               Jay Karas      14\n"
     ]
    }
   ],
   "source": [
    "Top_directors = df['director'].value_counts().head(5).reset_index()\n",
    "Top_directors.columns = ['Directors', 'Titles']\n",
    "print(Top_directors)"
   ]
  },
  {
   "cell_type": "markdown",
   "id": "9887698d-622b-4c72-a044-9e12e3296293",
   "metadata": {},
   "source": [
    "### No. of titles done by a particular actor"
   ]
  },
  {
   "cell_type": "code",
   "execution_count": 39,
   "id": "521613ae-c487-446f-a315-e2a442ffc0d8",
   "metadata": {},
   "outputs": [
    {
     "data": {
      "text/html": [
       "<div>\n",
       "<style scoped>\n",
       "    .dataframe tbody tr th:only-of-type {\n",
       "        vertical-align: middle;\n",
       "    }\n",
       "\n",
       "    .dataframe tbody tr th {\n",
       "        vertical-align: top;\n",
       "    }\n",
       "\n",
       "    .dataframe thead th {\n",
       "        text-align: right;\n",
       "    }\n",
       "</style>\n",
       "<table border=\"1\" class=\"dataframe\">\n",
       "  <thead>\n",
       "    <tr style=\"text-align: right;\">\n",
       "      <th></th>\n",
       "      <th>show_id</th>\n",
       "      <th>type</th>\n",
       "      <th>title</th>\n",
       "      <th>director</th>\n",
       "      <th>cast</th>\n",
       "      <th>country</th>\n",
       "      <th>date_added</th>\n",
       "      <th>release_year</th>\n",
       "      <th>rating</th>\n",
       "      <th>duration</th>\n",
       "      <th>listed_in</th>\n",
       "      <th>description</th>\n",
       "      <th>Date_N</th>\n",
       "      <th>Date_Added</th>\n",
       "      <th>Year</th>\n",
       "    </tr>\n",
       "  </thead>\n",
       "  <tbody>\n",
       "  </tbody>\n",
       "</table>\n",
       "</div>"
      ],
      "text/plain": [
       "Empty DataFrame\n",
       "Columns: [show_id, type, title, director, cast, country, date_added, release_year, rating, duration, listed_in, description, Date_N, Date_Added, Year]\n",
       "Index: []"
      ]
     },
     "execution_count": 39,
     "metadata": {},
     "output_type": "execute_result"
    }
   ],
   "source": [
    "df[df['cast'] == 'Emma Roberts']"
   ]
  },
  {
   "cell_type": "code",
   "execution_count": 40,
   "id": "eea6c96c-e1ee-47ef-b4c4-fdc386317c37",
   "metadata": {},
   "outputs": [
    {
     "name": "stdout",
     "output_type": "stream",
     "text": [
      "show_id         7\n",
      "type            7\n",
      "title           7\n",
      "director        7\n",
      "cast            7\n",
      "country         7\n",
      "date_added      7\n",
      "release_year    7\n",
      "rating          7\n",
      "duration        7\n",
      "listed_in       7\n",
      "description     7\n",
      "Date_N          7\n",
      "Date_Added      7\n",
      "Year            7\n",
      "dtype: int64\n"
     ]
    }
   ],
   "source": [
    "top = df[df['cast'].str.contains('Robert Downey', case = False, na = False)].count()\n",
    "print(top)"
   ]
  },
  {
   "cell_type": "code",
   "execution_count": 41,
   "id": "b2a6ca05-91bc-4f5d-8f77-66148d16235b",
   "metadata": {},
   "outputs": [
    {
     "name": "stdin",
     "output_type": "stream",
     "text": [
      "Enter the name of the Actor/Actress:  Tom Holland\n"
     ]
    },
    {
     "name": "stdout",
     "output_type": "stream",
     "text": [
      "type\n",
      "movie    9\n",
      "Name: cast, dtype: int64\n"
     ]
    }
   ],
   "source": [
    "Actor = input('Enter the name of the Actor/Actress: ')\n",
    "dd = df[df['cast'].str.contains(Actor, case = False, na = False)].groupby('type')\n",
    "top = dd['cast'].count()\n",
    "print(top)"
   ]
  },
  {
   "cell_type": "code",
   "execution_count": 42,
   "id": "0fb23eac-fd09-49e7-a36c-e8f96978e465",
   "metadata": {},
   "outputs": [
    {
     "name": "stdin",
     "output_type": "stream",
     "text": [
      "Enter the name of the Actor/Actress:  Chris Pratt\n"
     ]
    },
    {
     "name": "stdout",
     "output_type": "stream",
     "text": [
      "type\n",
      "movie      4\n",
      "tv show    1\n",
      "Name: cast, dtype: int64\n"
     ]
    }
   ],
   "source": [
    "Actor = input('Enter the name of the Actor/Actress: ')\n",
    "Grouped = df[df['cast'].str.contains(Actor, case=False, na = False)].groupby('type')\n",
    "Tops = Grouped['cast'].count()\n",
    "print(Tops)"
   ]
  },
  {
   "cell_type": "code",
   "execution_count": 43,
   "id": "f639d0a2-c1bc-4215-9c40-a8d3f7a244fb",
   "metadata": {},
   "outputs": [
    {
     "data": {
      "text/plain": [
       "(array(['PG-13', 'TV-MA', 'PG', 'TV-14', 'TV-PG', 'TV-Y', 'TV-Y7', 'R',\n",
       "        'TV-G', 'G', 'NC-17', nan, 'NR', 'TV-Y7-FV', 'UR'], dtype=object),\n",
       " 14)"
      ]
     },
     "execution_count": 43,
     "metadata": {},
     "output_type": "execute_result"
    }
   ],
   "source": [
    "df['rating'].unique(), df['rating'].nunique()"
   ]
  },
  {
   "cell_type": "markdown",
   "id": "9d871655-913c-4c14-9c20-63fc286e0cd9",
   "metadata": {},
   "source": [
    "#### Tv 14 rating in canada"
   ]
  },
  {
   "cell_type": "code",
   "execution_count": 44,
   "id": "49dd666a-eb02-4960-a062-92170c0d508f",
   "metadata": {},
   "outputs": [
    {
     "data": {
      "text/html": [
       "<div>\n",
       "<style scoped>\n",
       "    .dataframe tbody tr th:only-of-type {\n",
       "        vertical-align: middle;\n",
       "    }\n",
       "\n",
       "    .dataframe tbody tr th {\n",
       "        vertical-align: top;\n",
       "    }\n",
       "\n",
       "    .dataframe thead th {\n",
       "        text-align: right;\n",
       "    }\n",
       "</style>\n",
       "<table border=\"1\" class=\"dataframe\">\n",
       "  <thead>\n",
       "    <tr style=\"text-align: right;\">\n",
       "      <th></th>\n",
       "      <th>show_id</th>\n",
       "      <th>type</th>\n",
       "      <th>title</th>\n",
       "      <th>director</th>\n",
       "      <th>cast</th>\n",
       "      <th>country</th>\n",
       "      <th>date_added</th>\n",
       "      <th>release_year</th>\n",
       "      <th>rating</th>\n",
       "      <th>duration</th>\n",
       "      <th>listed_in</th>\n",
       "      <th>description</th>\n",
       "      <th>Date_N</th>\n",
       "      <th>Date_Added</th>\n",
       "      <th>Year</th>\n",
       "    </tr>\n",
       "  </thead>\n",
       "  <tbody>\n",
       "    <tr>\n",
       "      <th>157</th>\n",
       "      <td>s158</td>\n",
       "      <td>movie</td>\n",
       "      <td>Level 16</td>\n",
       "      <td>Danishka Esterhazy</td>\n",
       "      <td>Katie Douglas, Celina Martin, Peter Outerbridg...</td>\n",
       "      <td>Canada</td>\n",
       "      <td>September 1, 2021</td>\n",
       "      <td>2018</td>\n",
       "      <td>TV-14</td>\n",
       "      <td>102 min</td>\n",
       "      <td>Sci-Fi &amp; Fantasy, Thrillers</td>\n",
       "      <td>In a bleak academy that teaches girls the virt...</td>\n",
       "      <td>2018-01-01</td>\n",
       "      <td>2021-09-01</td>\n",
       "      <td>2021.0</td>\n",
       "    </tr>\n",
       "    <tr>\n",
       "      <th>510</th>\n",
       "      <td>s511</td>\n",
       "      <td>tv show</td>\n",
       "      <td>Between</td>\n",
       "      <td>NaN</td>\n",
       "      <td>Jennette McCurdy, Jesse Carere, Ryan Allen, Ju...</td>\n",
       "      <td>Canada</td>\n",
       "      <td>July 6, 2021</td>\n",
       "      <td>2016</td>\n",
       "      <td>TV-14</td>\n",
       "      <td>2 Seasons</td>\n",
       "      <td>International TV Shows, TV Dramas, TV Mysteries</td>\n",
       "      <td>After a mysterious disease kills every residen...</td>\n",
       "      <td>2016-01-01</td>\n",
       "      <td>2021-07-06</td>\n",
       "      <td>2021.0</td>\n",
       "    </tr>\n",
       "    <tr>\n",
       "      <th>1279</th>\n",
       "      <td>s1280</td>\n",
       "      <td>movie</td>\n",
       "      <td>Made You Look: A True Story About Fake Art</td>\n",
       "      <td>Barry Avrich</td>\n",
       "      <td>NaN</td>\n",
       "      <td>Canada</td>\n",
       "      <td>February 23, 2021</td>\n",
       "      <td>2020</td>\n",
       "      <td>TV-14</td>\n",
       "      <td>90 min</td>\n",
       "      <td>Documentaries, International Movies</td>\n",
       "      <td>A woman walks into a New York gallery with a c...</td>\n",
       "      <td>2020-01-01</td>\n",
       "      <td>2021-02-23</td>\n",
       "      <td>2021.0</td>\n",
       "    </tr>\n",
       "    <tr>\n",
       "      <th>1354</th>\n",
       "      <td>s1355</td>\n",
       "      <td>tv show</td>\n",
       "      <td>Heartland</td>\n",
       "      <td>NaN</td>\n",
       "      <td>Amber Marshall, Michelle Morgan, Graham Wardle...</td>\n",
       "      <td>Canada</td>\n",
       "      <td>February 1, 2021</td>\n",
       "      <td>2019</td>\n",
       "      <td>TV-14</td>\n",
       "      <td>13 Seasons</td>\n",
       "      <td>TV Dramas</td>\n",
       "      <td>Spunky teenager Amy is reeling from the sudden...</td>\n",
       "      <td>2019-01-01</td>\n",
       "      <td>2021-02-01</td>\n",
       "      <td>2021.0</td>\n",
       "    </tr>\n",
       "    <tr>\n",
       "      <th>1383</th>\n",
       "      <td>s1384</td>\n",
       "      <td>tv show</td>\n",
       "      <td>Blown Away</td>\n",
       "      <td>NaN</td>\n",
       "      <td>NaN</td>\n",
       "      <td>Canada</td>\n",
       "      <td>January 22, 2021</td>\n",
       "      <td>2021</td>\n",
       "      <td>TV-14</td>\n",
       "      <td>2 Seasons</td>\n",
       "      <td>International TV Shows, Reality TV</td>\n",
       "      <td>Ten master artists turn up the heat in glassbl...</td>\n",
       "      <td>2021-01-01</td>\n",
       "      <td>2021-01-22</td>\n",
       "      <td>2021.0</td>\n",
       "    </tr>\n",
       "    <tr>\n",
       "      <th>2106</th>\n",
       "      <td>s2107</td>\n",
       "      <td>tv show</td>\n",
       "      <td>Rust Valley Restorers</td>\n",
       "      <td>NaN</td>\n",
       "      <td>Mike Hall, Michael Daingerfield</td>\n",
       "      <td>Canada</td>\n",
       "      <td>August 21, 2020</td>\n",
       "      <td>2020</td>\n",
       "      <td>TV-14</td>\n",
       "      <td>3 Seasons</td>\n",
       "      <td>International TV Shows, Reality TV</td>\n",
       "      <td>Old-school auto collector Mike Hall, his pal A...</td>\n",
       "      <td>2020-01-01</td>\n",
       "      <td>2020-08-21</td>\n",
       "      <td>2020.0</td>\n",
       "    </tr>\n",
       "    <tr>\n",
       "      <th>2552</th>\n",
       "      <td>s2553</td>\n",
       "      <td>tv show</td>\n",
       "      <td>Restaurants on the Edge</td>\n",
       "      <td>NaN</td>\n",
       "      <td>Nick Liberato, Karin Bohn, Dennis Prescott</td>\n",
       "      <td>Canada</td>\n",
       "      <td>May 8, 2020</td>\n",
       "      <td>2020</td>\n",
       "      <td>TV-14</td>\n",
       "      <td>2 Seasons</td>\n",
       "      <td>International TV Shows, Reality TV</td>\n",
       "      <td>Three food and design experts travel the world...</td>\n",
       "      <td>2020-01-01</td>\n",
       "      <td>2020-05-08</td>\n",
       "      <td>2020.0</td>\n",
       "    </tr>\n",
       "    <tr>\n",
       "      <th>2769</th>\n",
       "      <td>s2770</td>\n",
       "      <td>movie</td>\n",
       "      <td>There's Something in the Water</td>\n",
       "      <td>Ellen Page, Ian Daniel</td>\n",
       "      <td>Ellen Page</td>\n",
       "      <td>Canada</td>\n",
       "      <td>March 27, 2020</td>\n",
       "      <td>2019</td>\n",
       "      <td>TV-14</td>\n",
       "      <td>72 min</td>\n",
       "      <td>Documentaries, International Movies</td>\n",
       "      <td>This documentary spotlights the struggle of mi...</td>\n",
       "      <td>2019-01-01</td>\n",
       "      <td>2020-03-27</td>\n",
       "      <td>2020.0</td>\n",
       "    </tr>\n",
       "    <tr>\n",
       "      <th>3053</th>\n",
       "      <td>s3054</td>\n",
       "      <td>tv show</td>\n",
       "      <td>Border Security: America's Front Line</td>\n",
       "      <td>NaN</td>\n",
       "      <td>NaN</td>\n",
       "      <td>Canada</td>\n",
       "      <td>January 1, 2020</td>\n",
       "      <td>2018</td>\n",
       "      <td>TV-14</td>\n",
       "      <td>1 Season</td>\n",
       "      <td>Crime TV Shows, International TV Shows, Realit...</td>\n",
       "      <td>This reality series chronicles the behind-the-...</td>\n",
       "      <td>2018-01-01</td>\n",
       "      <td>2020-01-01</td>\n",
       "      <td>2020.0</td>\n",
       "    </tr>\n",
       "    <tr>\n",
       "      <th>3424</th>\n",
       "      <td>s3425</td>\n",
       "      <td>movie</td>\n",
       "      <td>Martin Matte: La vie, la mort...eh la la..!</td>\n",
       "      <td>Jean-François Blais</td>\n",
       "      <td>Martin Matte</td>\n",
       "      <td>Canada</td>\n",
       "      <td>October 14, 2019</td>\n",
       "      <td>2019</td>\n",
       "      <td>TV-14</td>\n",
       "      <td>62 min</td>\n",
       "      <td>Stand-Up Comedy</td>\n",
       "      <td>Quebecois comedy star Martin Matte serves up e...</td>\n",
       "      <td>2019-01-01</td>\n",
       "      <td>2019-10-14</td>\n",
       "      <td>2019.0</td>\n",
       "    </tr>\n",
       "    <tr>\n",
       "      <th>4057</th>\n",
       "      <td>s4058</td>\n",
       "      <td>tv show</td>\n",
       "      <td>Northern Rescue</td>\n",
       "      <td>NaN</td>\n",
       "      <td>William Baldwin, Kathleen Robertson, Spencer M...</td>\n",
       "      <td>Canada</td>\n",
       "      <td>March 1, 2019</td>\n",
       "      <td>2019</td>\n",
       "      <td>TV-14</td>\n",
       "      <td>1 Season</td>\n",
       "      <td>TV Dramas</td>\n",
       "      <td>After the sudden death of his wife, search and...</td>\n",
       "      <td>2019-01-01</td>\n",
       "      <td>2019-03-01</td>\n",
       "      <td>2019.0</td>\n",
       "    </tr>\n",
       "    <tr>\n",
       "      <th>5263</th>\n",
       "      <td>s5264</td>\n",
       "      <td>tv show</td>\n",
       "      <td>Dark Matter</td>\n",
       "      <td>NaN</td>\n",
       "      <td>Marc Bendavid, Melissa O'Neil, Anthony Lemke, ...</td>\n",
       "      <td>Canada</td>\n",
       "      <td>September 25, 2017</td>\n",
       "      <td>2017</td>\n",
       "      <td>TV-14</td>\n",
       "      <td>3 Seasons</td>\n",
       "      <td>TV Sci-Fi &amp; Fantasy, TV Thrillers</td>\n",
       "      <td>After waking up aboard a derelict spaceship wi...</td>\n",
       "      <td>2017-01-01</td>\n",
       "      <td>2017-09-25</td>\n",
       "      <td>2017.0</td>\n",
       "    </tr>\n",
       "    <tr>\n",
       "      <th>5381</th>\n",
       "      <td>s5382</td>\n",
       "      <td>tv show</td>\n",
       "      <td>Degrassi: Next Class</td>\n",
       "      <td>Stefan Brogren</td>\n",
       "      <td>Amanda Arcuri, Amir Bageria, Soma Bhatia, Jami...</td>\n",
       "      <td>Canada</td>\n",
       "      <td>July 7, 2017</td>\n",
       "      <td>2017</td>\n",
       "      <td>TV-14</td>\n",
       "      <td>4 Seasons</td>\n",
       "      <td>International TV Shows, TV Dramas, Teen TV Shows</td>\n",
       "      <td>Degrassi's next generation of high-tech newbie...</td>\n",
       "      <td>2017-01-01</td>\n",
       "      <td>2017-07-07</td>\n",
       "      <td>2017.0</td>\n",
       "    </tr>\n",
       "    <tr>\n",
       "      <th>5972</th>\n",
       "      <td>s5973</td>\n",
       "      <td>movie</td>\n",
       "      <td>#cats_the_mewvie</td>\n",
       "      <td>Michael Margolis</td>\n",
       "      <td>NaN</td>\n",
       "      <td>Canada</td>\n",
       "      <td>February 5, 2020</td>\n",
       "      <td>2020</td>\n",
       "      <td>TV-14</td>\n",
       "      <td>90 min</td>\n",
       "      <td>Documentaries, International Movies</td>\n",
       "      <td>This pawesome documentary explores how our fel...</td>\n",
       "      <td>2020-01-01</td>\n",
       "      <td>2020-02-05</td>\n",
       "      <td>2020.0</td>\n",
       "    </tr>\n",
       "    <tr>\n",
       "      <th>5973</th>\n",
       "      <td>s5974</td>\n",
       "      <td>movie</td>\n",
       "      <td>#Roxy</td>\n",
       "      <td>Michael Kennedy</td>\n",
       "      <td>Jake Short, Sarah Fisher, Booboo Stewart, Dann...</td>\n",
       "      <td>Canada</td>\n",
       "      <td>April 10, 2019</td>\n",
       "      <td>2018</td>\n",
       "      <td>TV-14</td>\n",
       "      <td>105 min</td>\n",
       "      <td>Comedies, Romantic Movies</td>\n",
       "      <td>A teenage hacker with a huge nose helps a cool...</td>\n",
       "      <td>2018-01-01</td>\n",
       "      <td>2019-04-10</td>\n",
       "      <td>2019.0</td>\n",
       "    </tr>\n",
       "    <tr>\n",
       "      <th>6192</th>\n",
       "      <td>s6193</td>\n",
       "      <td>movie</td>\n",
       "      <td>At First Light</td>\n",
       "      <td>Jason Stone</td>\n",
       "      <td>Stefanie Scott, Theodore Pellerin, Percy Hynes...</td>\n",
       "      <td>Canada</td>\n",
       "      <td>December 27, 2018</td>\n",
       "      <td>2018</td>\n",
       "      <td>TV-14</td>\n",
       "      <td>91 min</td>\n",
       "      <td>Dramas, Sci-Fi &amp; Fantasy</td>\n",
       "      <td>After mysterious lights imbue her with extraor...</td>\n",
       "      <td>2018-01-01</td>\n",
       "      <td>2018-12-27</td>\n",
       "      <td>2018.0</td>\n",
       "    </tr>\n",
       "    <tr>\n",
       "      <th>6264</th>\n",
       "      <td>s6265</td>\n",
       "      <td>tv show</td>\n",
       "      <td>Beauty &amp; the Beast</td>\n",
       "      <td>NaN</td>\n",
       "      <td>Kristin Kreuk, Jay Ryan, Max Brown, Austin Bas...</td>\n",
       "      <td>Canada</td>\n",
       "      <td>September 19, 2016</td>\n",
       "      <td>2016</td>\n",
       "      <td>TV-14</td>\n",
       "      <td>4 Seasons</td>\n",
       "      <td>Crime TV Shows, Romantic TV Shows, TV Dramas</td>\n",
       "      <td>A homicide detective and a veteran who has bee...</td>\n",
       "      <td>2016-01-01</td>\n",
       "      <td>2016-09-19</td>\n",
       "      <td>2016.0</td>\n",
       "    </tr>\n",
       "    <tr>\n",
       "      <th>6537</th>\n",
       "      <td>s6538</td>\n",
       "      <td>movie</td>\n",
       "      <td>Counterfeiting in Suburbia</td>\n",
       "      <td>Jason Bourque</td>\n",
       "      <td>Sarah Butler, Larissa Albuquerque, Kayla Walla...</td>\n",
       "      <td>Canada</td>\n",
       "      <td>July 1, 2018</td>\n",
       "      <td>2018</td>\n",
       "      <td>TV-14</td>\n",
       "      <td>88 min</td>\n",
       "      <td>Dramas, Thrillers</td>\n",
       "      <td>Two teenagers print counterfeit money in their...</td>\n",
       "      <td>2018-01-01</td>\n",
       "      <td>2018-07-01</td>\n",
       "      <td>2018.0</td>\n",
       "    </tr>\n",
       "    <tr>\n",
       "      <th>7334</th>\n",
       "      <td>s7335</td>\n",
       "      <td>movie</td>\n",
       "      <td>Long Time Running</td>\n",
       "      <td>Jennifer Baichwal, Nicholas de Pencier</td>\n",
       "      <td>Gord Downie, Paul Langlois, Gord Sinclair, Rob...</td>\n",
       "      <td>Canada</td>\n",
       "      <td>November 12, 2017</td>\n",
       "      <td>2017</td>\n",
       "      <td>TV-14</td>\n",
       "      <td>96 min</td>\n",
       "      <td>Documentaries, International Movies, Music &amp; M...</td>\n",
       "      <td>This documentary follows the 2016 tour of belo...</td>\n",
       "      <td>2017-01-01</td>\n",
       "      <td>2017-11-12</td>\n",
       "      <td>2017.0</td>\n",
       "    </tr>\n",
       "    <tr>\n",
       "      <th>7342</th>\n",
       "      <td>s7343</td>\n",
       "      <td>tv show</td>\n",
       "      <td>Lost Girl</td>\n",
       "      <td>NaN</td>\n",
       "      <td>Anna Silk, Kris Holden-Ried, Ksenia Solo, Rich...</td>\n",
       "      <td>Canada</td>\n",
       "      <td>April 17, 2016</td>\n",
       "      <td>2015</td>\n",
       "      <td>TV-14</td>\n",
       "      <td>5 Seasons</td>\n",
       "      <td>TV Dramas, TV Horror, TV Mysteries</td>\n",
       "      <td>Discovering she's a succubus who sustains hers...</td>\n",
       "      <td>2015-01-01</td>\n",
       "      <td>2016-04-17</td>\n",
       "      <td>2016.0</td>\n",
       "    </tr>\n",
       "    <tr>\n",
       "      <th>7705</th>\n",
       "      <td>s7706</td>\n",
       "      <td>tv show</td>\n",
       "      <td>Paranormal Survivor</td>\n",
       "      <td>NaN</td>\n",
       "      <td>NaN</td>\n",
       "      <td>Canada</td>\n",
       "      <td>August 4, 2017</td>\n",
       "      <td>2016</td>\n",
       "      <td>TV-14</td>\n",
       "      <td>2 Seasons</td>\n",
       "      <td>Docuseries</td>\n",
       "      <td>In interviews and reenactments, ordinary peopl...</td>\n",
       "      <td>2016-01-01</td>\n",
       "      <td>2017-08-04</td>\n",
       "      <td>2017.0</td>\n",
       "    </tr>\n",
       "    <tr>\n",
       "      <th>7856</th>\n",
       "      <td>s7857</td>\n",
       "      <td>tv show</td>\n",
       "      <td>Republic of Doyle</td>\n",
       "      <td>NaN</td>\n",
       "      <td>Allan Hawco, Krystin Pellerin, Marthe Bernard,...</td>\n",
       "      <td>Canada</td>\n",
       "      <td>May 28, 2020</td>\n",
       "      <td>2014</td>\n",
       "      <td>TV-14</td>\n",
       "      <td>6 Seasons</td>\n",
       "      <td>Crime TV Shows, TV Comedies, TV Dramas</td>\n",
       "      <td>A pair of father and son private investigators...</td>\n",
       "      <td>2014-01-01</td>\n",
       "      <td>2020-05-28</td>\n",
       "      <td>2020.0</td>\n",
       "    </tr>\n",
       "    <tr>\n",
       "      <th>7916</th>\n",
       "      <td>s7917</td>\n",
       "      <td>movie</td>\n",
       "      <td>Sadie's Last Days on Earth</td>\n",
       "      <td>Michael Seater</td>\n",
       "      <td>Morgan Taylor Campbell, Clark Backo, Ricardo H...</td>\n",
       "      <td>Canada</td>\n",
       "      <td>August 22, 2017</td>\n",
       "      <td>2016</td>\n",
       "      <td>TV-14</td>\n",
       "      <td>94 min</td>\n",
       "      <td>Comedies, Sci-Fi &amp; Fantasy</td>\n",
       "      <td>High schooler Sadie Mitchell believes the worl...</td>\n",
       "      <td>2016-01-01</td>\n",
       "      <td>2017-08-22</td>\n",
       "      <td>2017.0</td>\n",
       "    </tr>\n",
       "    <tr>\n",
       "      <th>7936</th>\n",
       "      <td>s7937</td>\n",
       "      <td>movie</td>\n",
       "      <td>Sardaar ji</td>\n",
       "      <td>Rohit Jugraj</td>\n",
       "      <td>Diljit Dosanjh, Neeru Bajwa, Mandy Takhar, Jas...</td>\n",
       "      <td>Canada</td>\n",
       "      <td>December 1, 2017</td>\n",
       "      <td>2015</td>\n",
       "      <td>TV-14</td>\n",
       "      <td>140 min</td>\n",
       "      <td>Comedies, International Movies, Music &amp; Musicals</td>\n",
       "      <td>When a palatial wedding venue turns out to be ...</td>\n",
       "      <td>2015-01-01</td>\n",
       "      <td>2017-12-01</td>\n",
       "      <td>2017.0</td>\n",
       "    </tr>\n",
       "    <tr>\n",
       "      <th>8178</th>\n",
       "      <td>s8179</td>\n",
       "      <td>movie</td>\n",
       "      <td>The Accountant of Auschwitz</td>\n",
       "      <td>Matthew Shoychet</td>\n",
       "      <td>NaN</td>\n",
       "      <td>Canada</td>\n",
       "      <td>July 1, 2019</td>\n",
       "      <td>2018</td>\n",
       "      <td>TV-14</td>\n",
       "      <td>78 min</td>\n",
       "      <td>Documentaries, International Movies</td>\n",
       "      <td>Decades after WWII, a former SS officer stands...</td>\n",
       "      <td>2018-01-01</td>\n",
       "      <td>2019-07-01</td>\n",
       "      <td>2019.0</td>\n",
       "    </tr>\n",
       "    <tr>\n",
       "      <th>8566</th>\n",
       "      <td>s8567</td>\n",
       "      <td>movie</td>\n",
       "      <td>The Wrong Babysitter</td>\n",
       "      <td>George Mendeluk</td>\n",
       "      <td>Daphne Zuniga, Seann Gallagher, Lisa Marie Car...</td>\n",
       "      <td>Canada</td>\n",
       "      <td>June 18, 2019</td>\n",
       "      <td>2017</td>\n",
       "      <td>TV-14</td>\n",
       "      <td>89 min</td>\n",
       "      <td>Thrillers</td>\n",
       "      <td>A widow searches for her missing teenage daugh...</td>\n",
       "      <td>2017-01-01</td>\n",
       "      <td>2019-06-18</td>\n",
       "      <td>2019.0</td>\n",
       "    </tr>\n",
       "  </tbody>\n",
       "</table>\n",
       "</div>"
      ],
      "text/plain": [
       "     show_id     type                                        title  \\\n",
       "157     s158    movie                                     Level 16   \n",
       "510     s511  tv show                                      Between   \n",
       "1279   s1280    movie   Made You Look: A True Story About Fake Art   \n",
       "1354   s1355  tv show                                    Heartland   \n",
       "1383   s1384  tv show                                   Blown Away   \n",
       "2106   s2107  tv show                        Rust Valley Restorers   \n",
       "2552   s2553  tv show                      Restaurants on the Edge   \n",
       "2769   s2770    movie               There's Something in the Water   \n",
       "3053   s3054  tv show        Border Security: America's Front Line   \n",
       "3424   s3425    movie  Martin Matte: La vie, la mort...eh la la..!   \n",
       "4057   s4058  tv show                              Northern Rescue   \n",
       "5263   s5264  tv show                                  Dark Matter   \n",
       "5381   s5382  tv show                         Degrassi: Next Class   \n",
       "5972   s5973    movie                             #cats_the_mewvie   \n",
       "5973   s5974    movie                                        #Roxy   \n",
       "6192   s6193    movie                               At First Light   \n",
       "6264   s6265  tv show                           Beauty & the Beast   \n",
       "6537   s6538    movie                   Counterfeiting in Suburbia   \n",
       "7334   s7335    movie                            Long Time Running   \n",
       "7342   s7343  tv show                                    Lost Girl   \n",
       "7705   s7706  tv show                          Paranormal Survivor   \n",
       "7856   s7857  tv show                            Republic of Doyle   \n",
       "7916   s7917    movie                   Sadie's Last Days on Earth   \n",
       "7936   s7937    movie                                   Sardaar ji   \n",
       "8178   s8179    movie                  The Accountant of Auschwitz   \n",
       "8566   s8567    movie                         The Wrong Babysitter   \n",
       "\n",
       "                                    director  \\\n",
       "157                       Danishka Esterhazy   \n",
       "510                                      NaN   \n",
       "1279                            Barry Avrich   \n",
       "1354                                     NaN   \n",
       "1383                                     NaN   \n",
       "2106                                     NaN   \n",
       "2552                                     NaN   \n",
       "2769                  Ellen Page, Ian Daniel   \n",
       "3053                                     NaN   \n",
       "3424                     Jean-François Blais   \n",
       "4057                                     NaN   \n",
       "5263                                     NaN   \n",
       "5381                          Stefan Brogren   \n",
       "5972                        Michael Margolis   \n",
       "5973                         Michael Kennedy   \n",
       "6192                             Jason Stone   \n",
       "6264                                     NaN   \n",
       "6537                           Jason Bourque   \n",
       "7334  Jennifer Baichwal, Nicholas de Pencier   \n",
       "7342                                     NaN   \n",
       "7705                                     NaN   \n",
       "7856                                     NaN   \n",
       "7916                          Michael Seater   \n",
       "7936                            Rohit Jugraj   \n",
       "8178                        Matthew Shoychet   \n",
       "8566                         George Mendeluk   \n",
       "\n",
       "                                                   cast country  \\\n",
       "157   Katie Douglas, Celina Martin, Peter Outerbridg...  Canada   \n",
       "510   Jennette McCurdy, Jesse Carere, Ryan Allen, Ju...  Canada   \n",
       "1279                                                NaN  Canada   \n",
       "1354  Amber Marshall, Michelle Morgan, Graham Wardle...  Canada   \n",
       "1383                                                NaN  Canada   \n",
       "2106                    Mike Hall, Michael Daingerfield  Canada   \n",
       "2552         Nick Liberato, Karin Bohn, Dennis Prescott  Canada   \n",
       "2769                                         Ellen Page  Canada   \n",
       "3053                                                NaN  Canada   \n",
       "3424                                       Martin Matte  Canada   \n",
       "4057  William Baldwin, Kathleen Robertson, Spencer M...  Canada   \n",
       "5263  Marc Bendavid, Melissa O'Neil, Anthony Lemke, ...  Canada   \n",
       "5381  Amanda Arcuri, Amir Bageria, Soma Bhatia, Jami...  Canada   \n",
       "5972                                                NaN  Canada   \n",
       "5973  Jake Short, Sarah Fisher, Booboo Stewart, Dann...  Canada   \n",
       "6192  Stefanie Scott, Theodore Pellerin, Percy Hynes...  Canada   \n",
       "6264  Kristin Kreuk, Jay Ryan, Max Brown, Austin Bas...  Canada   \n",
       "6537  Sarah Butler, Larissa Albuquerque, Kayla Walla...  Canada   \n",
       "7334  Gord Downie, Paul Langlois, Gord Sinclair, Rob...  Canada   \n",
       "7342  Anna Silk, Kris Holden-Ried, Ksenia Solo, Rich...  Canada   \n",
       "7705                                                NaN  Canada   \n",
       "7856  Allan Hawco, Krystin Pellerin, Marthe Bernard,...  Canada   \n",
       "7916  Morgan Taylor Campbell, Clark Backo, Ricardo H...  Canada   \n",
       "7936  Diljit Dosanjh, Neeru Bajwa, Mandy Takhar, Jas...  Canada   \n",
       "8178                                                NaN  Canada   \n",
       "8566  Daphne Zuniga, Seann Gallagher, Lisa Marie Car...  Canada   \n",
       "\n",
       "              date_added  release_year rating    duration  \\\n",
       "157    September 1, 2021          2018  TV-14     102 min   \n",
       "510         July 6, 2021          2016  TV-14   2 Seasons   \n",
       "1279   February 23, 2021          2020  TV-14      90 min   \n",
       "1354    February 1, 2021          2019  TV-14  13 Seasons   \n",
       "1383    January 22, 2021          2021  TV-14   2 Seasons   \n",
       "2106     August 21, 2020          2020  TV-14   3 Seasons   \n",
       "2552         May 8, 2020          2020  TV-14   2 Seasons   \n",
       "2769      March 27, 2020          2019  TV-14      72 min   \n",
       "3053     January 1, 2020          2018  TV-14    1 Season   \n",
       "3424    October 14, 2019          2019  TV-14      62 min   \n",
       "4057       March 1, 2019          2019  TV-14    1 Season   \n",
       "5263  September 25, 2017          2017  TV-14   3 Seasons   \n",
       "5381        July 7, 2017          2017  TV-14   4 Seasons   \n",
       "5972    February 5, 2020          2020  TV-14      90 min   \n",
       "5973      April 10, 2019          2018  TV-14     105 min   \n",
       "6192   December 27, 2018          2018  TV-14      91 min   \n",
       "6264  September 19, 2016          2016  TV-14   4 Seasons   \n",
       "6537        July 1, 2018          2018  TV-14      88 min   \n",
       "7334   November 12, 2017          2017  TV-14      96 min   \n",
       "7342      April 17, 2016          2015  TV-14   5 Seasons   \n",
       "7705      August 4, 2017          2016  TV-14   2 Seasons   \n",
       "7856        May 28, 2020          2014  TV-14   6 Seasons   \n",
       "7916     August 22, 2017          2016  TV-14      94 min   \n",
       "7936    December 1, 2017          2015  TV-14     140 min   \n",
       "8178        July 1, 2019          2018  TV-14      78 min   \n",
       "8566       June 18, 2019          2017  TV-14      89 min   \n",
       "\n",
       "                                              listed_in  \\\n",
       "157                         Sci-Fi & Fantasy, Thrillers   \n",
       "510     International TV Shows, TV Dramas, TV Mysteries   \n",
       "1279                Documentaries, International Movies   \n",
       "1354                                          TV Dramas   \n",
       "1383                 International TV Shows, Reality TV   \n",
       "2106                 International TV Shows, Reality TV   \n",
       "2552                 International TV Shows, Reality TV   \n",
       "2769                Documentaries, International Movies   \n",
       "3053  Crime TV Shows, International TV Shows, Realit...   \n",
       "3424                                    Stand-Up Comedy   \n",
       "4057                                          TV Dramas   \n",
       "5263                  TV Sci-Fi & Fantasy, TV Thrillers   \n",
       "5381   International TV Shows, TV Dramas, Teen TV Shows   \n",
       "5972                Documentaries, International Movies   \n",
       "5973                          Comedies, Romantic Movies   \n",
       "6192                           Dramas, Sci-Fi & Fantasy   \n",
       "6264       Crime TV Shows, Romantic TV Shows, TV Dramas   \n",
       "6537                                  Dramas, Thrillers   \n",
       "7334  Documentaries, International Movies, Music & M...   \n",
       "7342                 TV Dramas, TV Horror, TV Mysteries   \n",
       "7705                                         Docuseries   \n",
       "7856             Crime TV Shows, TV Comedies, TV Dramas   \n",
       "7916                         Comedies, Sci-Fi & Fantasy   \n",
       "7936   Comedies, International Movies, Music & Musicals   \n",
       "8178                Documentaries, International Movies   \n",
       "8566                                          Thrillers   \n",
       "\n",
       "                                            description     Date_N Date_Added  \\\n",
       "157   In a bleak academy that teaches girls the virt... 2018-01-01 2021-09-01   \n",
       "510   After a mysterious disease kills every residen... 2016-01-01 2021-07-06   \n",
       "1279  A woman walks into a New York gallery with a c... 2020-01-01 2021-02-23   \n",
       "1354  Spunky teenager Amy is reeling from the sudden... 2019-01-01 2021-02-01   \n",
       "1383  Ten master artists turn up the heat in glassbl... 2021-01-01 2021-01-22   \n",
       "2106  Old-school auto collector Mike Hall, his pal A... 2020-01-01 2020-08-21   \n",
       "2552  Three food and design experts travel the world... 2020-01-01 2020-05-08   \n",
       "2769  This documentary spotlights the struggle of mi... 2019-01-01 2020-03-27   \n",
       "3053  This reality series chronicles the behind-the-... 2018-01-01 2020-01-01   \n",
       "3424  Quebecois comedy star Martin Matte serves up e... 2019-01-01 2019-10-14   \n",
       "4057  After the sudden death of his wife, search and... 2019-01-01 2019-03-01   \n",
       "5263  After waking up aboard a derelict spaceship wi... 2017-01-01 2017-09-25   \n",
       "5381  Degrassi's next generation of high-tech newbie... 2017-01-01 2017-07-07   \n",
       "5972  This pawesome documentary explores how our fel... 2020-01-01 2020-02-05   \n",
       "5973  A teenage hacker with a huge nose helps a cool... 2018-01-01 2019-04-10   \n",
       "6192  After mysterious lights imbue her with extraor... 2018-01-01 2018-12-27   \n",
       "6264  A homicide detective and a veteran who has bee... 2016-01-01 2016-09-19   \n",
       "6537  Two teenagers print counterfeit money in their... 2018-01-01 2018-07-01   \n",
       "7334  This documentary follows the 2016 tour of belo... 2017-01-01 2017-11-12   \n",
       "7342  Discovering she's a succubus who sustains hers... 2015-01-01 2016-04-17   \n",
       "7705  In interviews and reenactments, ordinary peopl... 2016-01-01 2017-08-04   \n",
       "7856  A pair of father and son private investigators... 2014-01-01 2020-05-28   \n",
       "7916  High schooler Sadie Mitchell believes the worl... 2016-01-01 2017-08-22   \n",
       "7936  When a palatial wedding venue turns out to be ... 2015-01-01 2017-12-01   \n",
       "8178  Decades after WWII, a former SS officer stands... 2018-01-01 2019-07-01   \n",
       "8566  A widow searches for her missing teenage daugh... 2017-01-01 2019-06-18   \n",
       "\n",
       "        Year  \n",
       "157   2021.0  \n",
       "510   2021.0  \n",
       "1279  2021.0  \n",
       "1354  2021.0  \n",
       "1383  2021.0  \n",
       "2106  2020.0  \n",
       "2552  2020.0  \n",
       "2769  2020.0  \n",
       "3053  2020.0  \n",
       "3424  2019.0  \n",
       "4057  2019.0  \n",
       "5263  2017.0  \n",
       "5381  2017.0  \n",
       "5972  2020.0  \n",
       "5973  2019.0  \n",
       "6192  2018.0  \n",
       "6264  2016.0  \n",
       "6537  2018.0  \n",
       "7334  2017.0  \n",
       "7342  2016.0  \n",
       "7705  2017.0  \n",
       "7856  2020.0  \n",
       "7916  2017.0  \n",
       "7936  2017.0  \n",
       "8178  2019.0  \n",
       "8566  2019.0  "
      ]
     },
     "execution_count": 44,
     "metadata": {},
     "output_type": "execute_result"
    }
   ],
   "source": [
    "df[(df['rating'] == 'TV-14') & (df['country'] == 'Canada')]"
   ]
  },
  {
   "cell_type": "markdown",
   "id": "78e838fe-964f-4c09-be9d-a598993cff5d",
   "metadata": {},
   "source": [
    "#### How many movies got the PG-13 rating after 2010"
   ]
  },
  {
   "cell_type": "code",
   "execution_count": 45,
   "id": "60fd286e-e20b-4366-aeea-a6f6cc608cad",
   "metadata": {},
   "outputs": [
    {
     "data": {
      "text/plain": [
       "type\n",
       "movie    302\n",
       "Name: title, dtype: int64"
      ]
     },
     "execution_count": 45,
     "metadata": {},
     "output_type": "execute_result"
    }
   ],
   "source": [
    "aa = df[(df['rating'] == 'PG-13') & (df['release_year'] > 2008) & (df['type'] == 'movie')]\n",
    "aa.groupby('type')['title'].count()"
   ]
  },
  {
   "cell_type": "code",
   "execution_count": 46,
   "id": "e3ddc456-4586-4c13-bb94-d3895ff9c583",
   "metadata": {},
   "outputs": [],
   "source": [
    "df[['Minutes', 'Unit']] = df['duration'].str.split(\" \", expand = True)"
   ]
  },
  {
   "cell_type": "code",
   "execution_count": 47,
   "id": "db3a9f8f-6802-4bc8-a2c6-cef4a3fb1e3d",
   "metadata": {},
   "outputs": [],
   "source": [
    "df ['Minutes'] = df['Minutes'].astype('int')"
   ]
  },
  {
   "cell_type": "code",
   "execution_count": 48,
   "id": "d4c819c5-5e74-4e5b-9009-2b41afd34616",
   "metadata": {},
   "outputs": [
    {
     "data": {
      "text/plain": [
       "dtype('int32')"
      ]
     },
     "execution_count": 48,
     "metadata": {},
     "output_type": "execute_result"
    }
   ],
   "source": [
    "df['Minutes'].dtype"
   ]
  },
  {
   "cell_type": "code",
   "execution_count": 49,
   "id": "6f5d8d54-c98c-454d-9b82-977fefb5b5c3",
   "metadata": {},
   "outputs": [
    {
     "data": {
      "text/plain": [
       "1"
      ]
     },
     "execution_count": 49,
     "metadata": {},
     "output_type": "execute_result"
    }
   ],
   "source": [
    "df.index.nlevels"
   ]
  },
  {
   "cell_type": "code",
   "execution_count": 50,
   "id": "56581985-4aa1-4ef0-9432-d3dade0da2c0",
   "metadata": {},
   "outputs": [
    {
     "data": {
      "text/plain": [
       "(                            title duration  Minutes\n",
       " 4253   Black Mirror: Bandersnatch  312 min      312\n",
       " 717   Headspace: Unwind Your Mind  273 min      273\n",
       " 2491       The School of Mischief  253 min      253\n",
       " 2487               No Longer kids  237 min      237\n",
       " 2484           Lock Your Girls In  233 min      233,\n",
       "                                                  title duration  Minutes\n",
       " 3777                                            Silent    3 min        3\n",
       " 2713                                       Sol Levante    5 min        5\n",
       " 1484                                  Cops and Robbers    8 min        8\n",
       " 1557                                            Canvas    9 min        9\n",
       " 3535  American Factory: A Conversation with the Obamas   10 min       10)"
      ]
     },
     "execution_count": 50,
     "metadata": {},
     "output_type": "execute_result"
    }
   ],
   "source": [
    "df[df['type'] == 'movie'][['title','duration', 'Minutes']].sort_values(by = 'Minutes', ascending = False).head(5), df[df['type'] == 'movie'][['title','duration', 'Minutes']].sort_values(by = 'Minutes', ascending = True).head()"
   ]
  },
  {
   "cell_type": "code",
   "execution_count": 51,
   "id": "bad72298-d18e-4986-b741-acf6a9fea47c",
   "metadata": {},
   "outputs": [
    {
     "data": {
      "text/plain": [
       "(                       title    duration  Minutes\n",
       " 548           Grey's Anatomy  17 Seasons       17\n",
       " 2423            Supernatural  15 Seasons       15\n",
       " 4798                    NCIS  15 Seasons       15\n",
       " 1354               Heartland  13 Seasons       13\n",
       " 4220  COMEDIANS of the world  13 Seasons       13,\n",
       "                                          title  duration  Minutes\n",
       " 3695                          Rabbids Invasion  1 Season        1\n",
       " 3515                        Surviving R. Kelly  1 Season        1\n",
       " 3510                  When the Camellia Blooms  1 Season        1\n",
       " 3506                          The Hockey Girls  1 Season        1\n",
       " 3505  Inside Bill's Brain: Decoding Bill Gates  1 Season        1)"
      ]
     },
     "execution_count": 51,
     "metadata": {},
     "output_type": "execute_result"
    }
   ],
   "source": [
    "df[df['type'] == 'tv show'][['title','duration', 'Minutes']].sort_values(by = 'Minutes', ascending = False).head(), df[df['type'] == 'tv show'][['title','duration', 'Minutes']].sort_values(by = 'Minutes', ascending = True).head()"
   ]
  },
  {
   "cell_type": "markdown",
   "id": "f0b8d691-14b2-4fee-a420-2fe48777e314",
   "metadata": {},
   "source": [
    "#### Which country has the highest no. of Tv Shows?"
   ]
  },
  {
   "cell_type": "code",
   "execution_count": 52,
   "id": "3b04ac89-3588-44b7-a83d-d15dd7bfeb81",
   "metadata": {},
   "outputs": [
    {
     "name": "stdout",
     "output_type": "stream",
     "text": [
      "country\n",
      "United States     760\n",
      "United Kingdom    213\n",
      "Japan             169\n",
      "Name: country, dtype: int64\n"
     ]
    }
   ],
   "source": [
    "ad = df[df['type'] == 'tv show'].groupby('country')\n",
    "print(ad['country'].count().sort_values(ascending = False).head(3))"
   ]
  },
  {
   "cell_type": "markdown",
   "id": "982bd56c-bd3b-417a-9095-2bf0a522fba0",
   "metadata": {},
   "source": [
    "#### Sort data by Year"
   ]
  },
  {
   "cell_type": "code",
   "execution_count": 53,
   "id": "0af4342a-bfa5-4152-9de7-45042c719c1b",
   "metadata": {},
   "outputs": [
    {
     "data": {
      "text/html": [
       "<div>\n",
       "<style scoped>\n",
       "    .dataframe tbody tr th:only-of-type {\n",
       "        vertical-align: middle;\n",
       "    }\n",
       "\n",
       "    .dataframe tbody tr th {\n",
       "        vertical-align: top;\n",
       "    }\n",
       "\n",
       "    .dataframe thead th {\n",
       "        text-align: right;\n",
       "    }\n",
       "</style>\n",
       "<table border=\"1\" class=\"dataframe\">\n",
       "  <thead>\n",
       "    <tr style=\"text-align: right;\">\n",
       "      <th></th>\n",
       "      <th>show_id</th>\n",
       "      <th>type</th>\n",
       "      <th>title</th>\n",
       "      <th>director</th>\n",
       "      <th>cast</th>\n",
       "      <th>country</th>\n",
       "      <th>date_added</th>\n",
       "      <th>release_year</th>\n",
       "      <th>rating</th>\n",
       "      <th>duration</th>\n",
       "      <th>listed_in</th>\n",
       "      <th>description</th>\n",
       "      <th>Date_N</th>\n",
       "      <th>Date_Added</th>\n",
       "      <th>Year</th>\n",
       "      <th>Minutes</th>\n",
       "      <th>Unit</th>\n",
       "    </tr>\n",
       "  </thead>\n",
       "  <tbody>\n",
       "    <tr>\n",
       "      <th>5957</th>\n",
       "      <td>s5958</td>\n",
       "      <td>movie</td>\n",
       "      <td>To and From New York</td>\n",
       "      <td>Sorin Dan Mihalcescu</td>\n",
       "      <td>Barbara King, Shaana Diya, John Krisiukenas, Y...</td>\n",
       "      <td>United States</td>\n",
       "      <td>January 1, 2008</td>\n",
       "      <td>2006</td>\n",
       "      <td>TV-MA</td>\n",
       "      <td>81 min</td>\n",
       "      <td>Dramas, Independent Movies, Thrillers</td>\n",
       "      <td>While covering a story in New York City, a Sea...</td>\n",
       "      <td>2006-01-01</td>\n",
       "      <td>2008-01-01</td>\n",
       "      <td>2008.0</td>\n",
       "      <td>81</td>\n",
       "      <td>min</td>\n",
       "    </tr>\n",
       "    <tr>\n",
       "      <th>6611</th>\n",
       "      <td>s6612</td>\n",
       "      <td>tv show</td>\n",
       "      <td>Dinner for Five</td>\n",
       "      <td>NaN</td>\n",
       "      <td>NaN</td>\n",
       "      <td>United States</td>\n",
       "      <td>February 4, 2008</td>\n",
       "      <td>2007</td>\n",
       "      <td>TV-MA</td>\n",
       "      <td>1 Season</td>\n",
       "      <td>Stand-Up Comedy &amp; Talk Shows</td>\n",
       "      <td>In each episode, four celebrities join host Jo...</td>\n",
       "      <td>2007-01-01</td>\n",
       "      <td>2008-02-04</td>\n",
       "      <td>2008.0</td>\n",
       "      <td>1</td>\n",
       "      <td>Season</td>\n",
       "    </tr>\n",
       "    <tr>\n",
       "      <th>5956</th>\n",
       "      <td>s5957</td>\n",
       "      <td>movie</td>\n",
       "      <td>Just Another Love Story</td>\n",
       "      <td>Ole Bornedal</td>\n",
       "      <td>Anders W. Berthelsen, Rebecka Hemse, Nikolaj L...</td>\n",
       "      <td>Denmark</td>\n",
       "      <td>May 5, 2009</td>\n",
       "      <td>2007</td>\n",
       "      <td>TV-MA</td>\n",
       "      <td>104 min</td>\n",
       "      <td>Dramas, International Movies</td>\n",
       "      <td>When he causes a car accident that leaves a yo...</td>\n",
       "      <td>2007-01-01</td>\n",
       "      <td>2009-05-05</td>\n",
       "      <td>2009.0</td>\n",
       "      <td>104</td>\n",
       "      <td>min</td>\n",
       "    </tr>\n",
       "  </tbody>\n",
       "</table>\n",
       "</div>"
      ],
      "text/plain": [
       "     show_id     type                    title              director  \\\n",
       "5957   s5958    movie     To and From New York  Sorin Dan Mihalcescu   \n",
       "6611   s6612  tv show          Dinner for Five                   NaN   \n",
       "5956   s5957    movie  Just Another Love Story          Ole Bornedal   \n",
       "\n",
       "                                                   cast        country  \\\n",
       "5957  Barbara King, Shaana Diya, John Krisiukenas, Y...  United States   \n",
       "6611                                                NaN  United States   \n",
       "5956  Anders W. Berthelsen, Rebecka Hemse, Nikolaj L...        Denmark   \n",
       "\n",
       "            date_added  release_year rating  duration  \\\n",
       "5957   January 1, 2008          2006  TV-MA    81 min   \n",
       "6611  February 4, 2008          2007  TV-MA  1 Season   \n",
       "5956       May 5, 2009          2007  TV-MA   104 min   \n",
       "\n",
       "                                  listed_in  \\\n",
       "5957  Dramas, Independent Movies, Thrillers   \n",
       "6611           Stand-Up Comedy & Talk Shows   \n",
       "5956           Dramas, International Movies   \n",
       "\n",
       "                                            description     Date_N Date_Added  \\\n",
       "5957  While covering a story in New York City, a Sea... 2006-01-01 2008-01-01   \n",
       "6611  In each episode, four celebrities join host Jo... 2007-01-01 2008-02-04   \n",
       "5956  When he causes a car accident that leaves a yo... 2007-01-01 2009-05-05   \n",
       "\n",
       "        Year  Minutes    Unit  \n",
       "5957  2008.0       81     min  \n",
       "6611  2008.0        1  Season  \n",
       "5956  2009.0      104     min  "
      ]
     },
     "execution_count": 53,
     "metadata": {},
     "output_type": "execute_result"
    }
   ],
   "source": [
    "sort = df.sort_values('Year', ascending = True, inplace = False)\n",
    "sort.head(3)"
   ]
  },
  {
   "cell_type": "code",
   "execution_count": 54,
   "id": "d3b6c185-c936-4891-ba28-da3f8209a953",
   "metadata": {},
   "outputs": [
    {
     "data": {
      "text/plain": [
       "10"
      ]
     },
     "execution_count": 54,
     "metadata": {},
     "output_type": "execute_result"
    }
   ],
   "source": [
    "df['Year'].isnull().sum()"
   ]
  },
  {
   "cell_type": "code",
   "execution_count": 55,
   "id": "b4654211-ff15-42ed-aeb1-4d86dfc904d4",
   "metadata": {},
   "outputs": [],
   "source": [
    "df[df['Year'].isnull()]\n",
    "df.loc[df['Year'].isnull(), 'Year'] = df.loc[df['Year'].isnull(), 'release_year']"
   ]
  },
  {
   "cell_type": "code",
   "execution_count": 56,
   "id": "a9c4c0ac-1c32-4535-aa76-11799ab78e0e",
   "metadata": {},
   "outputs": [
    {
     "data": {
      "text/plain": [
       "0"
      ]
     },
     "execution_count": 56,
     "metadata": {},
     "output_type": "execute_result"
    }
   ],
   "source": [
    "df['Year'].isnull().sum()"
   ]
  }
 ],
 "metadata": {
  "kernelspec": {
   "display_name": "Python 3 (ipykernel)",
   "language": "python",
   "name": "python3"
  },
  "language_info": {
   "codemirror_mode": {
    "name": "ipython",
    "version": 3
   },
   "file_extension": ".py",
   "mimetype": "text/x-python",
   "name": "python",
   "nbconvert_exporter": "python",
   "pygments_lexer": "ipython3",
   "version": "3.11.4"
  }
 },
 "nbformat": 4,
 "nbformat_minor": 5
}
